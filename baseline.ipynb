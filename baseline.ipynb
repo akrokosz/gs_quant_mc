{
 "cells": [
  {
   "cell_type": "code",
   "execution_count": 1,
   "outputs": [],
   "source": [
    "import numpy as np, pandas as pd, scipy.stats as st\n",
    "from scipy.stats import t, norm\n",
    "from joblib import Parallel, delayed"
   ],
   "metadata": {
    "collapsed": false,
    "ExecuteTime": {
     "end_time": "2024-12-14T06:47:07.378043Z",
     "start_time": "2024-12-14T06:47:06.096168Z"
    }
   },
   "id": "8ae3ac9dcd6aaf10"
  },
  {
   "cell_type": "code",
   "execution_count": 2,
   "id": "initial_id",
   "metadata": {
    "collapsed": true,
    "ExecuteTime": {
     "end_time": "2024-12-14T06:47:17.606801Z",
     "start_time": "2024-12-14T06:47:07.254607Z"
    }
   },
   "outputs": [],
   "source": [
    "data = pd.read_csv('data.csv')\n",
    "num_obvs = 100000\n",
    "# risks per sector\n",
    "r = np.array([.295, .49, .41, .415, .338, .64, .403, .476])\n",
    "#sec_loading maps sector to its risk, t is the threshold for defaults\n",
    "data['sec_loading'], data['t'] = r[data['sector'].values], st.norm.ppf(data.p)\n",
    "# 100k monte carlo simulations and len(r)+len(data) risk factors per one sample\n",
    "factors, sample, vars = np.random.normal(0,1, (num_obvs, len(r)+len(data))), [], []"
   ]
  },
  {
   "cell_type": "code",
   "execution_count": 3,
   "outputs": [
    {
     "name": "stderr",
     "output_type": "stream",
     "text": [
      "\n",
      "KeyboardInterrupt\n",
      "\n"
     ]
    }
   ],
   "source": [
    "for obs in factors:\n",
    "    m_factor, sec_factor, res_factor = obs[0], obs[:len(r)][data.sector.values], obs[len(r):]\n",
    "    ind = r[0]**.5 * m_factor + (data.sec_loading-r[0])**.5 * sec_factor + (1-\n",
    "                                                                            data.sec_loading)**.5 * res_factor < data.t\n",
    "    loss = np.zeros((len(data),))\n",
    "    loss[ind] = data[ind].m + data[ind].d * np.random.standard_t(3, size=sum(ind))\n",
    "    sample.append(sum(loss))\n",
    "    vars.append(np.var(loss))"
   ],
   "metadata": {
    "collapsed": false,
    "ExecuteTime": {
     "end_time": "2024-12-14T06:48:38.850101Z",
     "start_time": "2024-12-14T06:47:17.589801Z"
    }
   },
   "id": "8cd5c6154d79197"
  },
  {
   "cell_type": "code",
   "execution_count": null,
   "outputs": [],
   "source": [
    "# extracts the 1% quantile from the sorted list of 100k obsercations\n",
    "VaR = np.percentile(np.array(sample), 0.1)\n",
    "variance = np.mean(vars)"
   ],
   "metadata": {
    "collapsed": false,
    "ExecuteTime": {
     "start_time": "2024-12-14T06:48:38.846660Z"
    }
   },
   "id": "7d7e9a294ee979a5"
  },
  {
   "cell_type": "code",
   "execution_count": null,
   "outputs": [],
   "source": [
    "print(\"Średnia wariancji strat:\", variance)\n",
    "print(\"VaR antetyczny (100-ty wynik):\", VaR)"
   ],
   "metadata": {
    "collapsed": false,
    "ExecuteTime": {
     "end_time": "2024-12-14T06:48:39.157922Z",
     "start_time": "2024-12-14T06:48:38.870773Z"
    }
   },
   "id": "ffd8d9b605d4c994"
  }
 ],
 "metadata": {
  "kernelspec": {
   "display_name": "Python 3",
   "language": "python",
   "name": "python3"
  },
  "language_info": {
   "codemirror_mode": {
    "name": "ipython",
    "version": 2
   },
   "file_extension": ".py",
   "mimetype": "text/x-python",
   "name": "python",
   "nbconvert_exporter": "python",
   "pygments_lexer": "ipython2",
   "version": "2.7.6"
  }
 },
 "nbformat": 4,
 "nbformat_minor": 5
}
