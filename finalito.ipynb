{
 "cells": [
  {
   "cell_type": "code",
   "execution_count": 2,
   "outputs": [],
   "source": [
    "import numpy as np, pandas as pd, scipy.stats as st\n",
    "from scipy.stats import t, norm\n",
    "from joblib import Parallel, delayed"
   ],
   "metadata": {
    "collapsed": false,
    "ExecuteTime": {
     "end_time": "2024-12-14T02:26:59.538057Z",
     "start_time": "2024-12-14T02:26:58.574341Z"
    }
   },
   "id": "3280b9eb3c6a1597"
  },
  {
   "cell_type": "code",
   "execution_count": 3,
   "outputs": [],
   "source": [
    "data = pd.read_csv('data.csv')\n",
    "\n",
    "num_obvs = 100_000\n",
    "r = np.array([.295, .49, .41, .415, .338, .64, .403, .476])\n",
    "sector_indices = data['sector'].values\n",
    "sec_loading = r[sector_indices]\n",
    "datat = norm.ppf(data['p'])"
   ],
   "metadata": {
    "collapsed": false,
    "ExecuteTime": {
     "end_time": "2024-12-14T02:27:00.382992Z",
     "start_time": "2024-12-14T02:27:00.348397Z"
    }
   },
   "id": "73169c437e2a309c"
  },
  {
   "cell_type": "code",
   "execution_count": 4,
   "outputs": [],
   "source": [
    "def process_obs(obs):\n",
    "    m_factor = obs[0]  \n",
    "    sec_factor = obs[:len(r)][sector_indices]  \n",
    "    res_factor = obs[len(r):]  \n",
    "\n",
    "    control_variate = (\n",
    "            r[0]**0.5 * m_factor\n",
    "            + (sec_loading - r[0])**0.5 * sec_factor\n",
    "            + (1 - sec_loading)**0.5 * res_factor\n",
    "    )\n",
    "\n",
    "    ind = control_variate < datat\n",
    "    loss = np.zeros(len(data))\n",
    "\n",
    "    if np.any(ind):\n",
    "        loss[ind] = data.loc[ind, 'm'].values + data.loc[ind, 'd'].values * np.clip(t.rvs(df=3, size=sum(ind)), -5, 5)\n",
    "\n",
    "\n",
    "    # expected_control = np.mean(control_variate)\n",
    "    # alpha = np.cov(loss, control_variate)[0,1] / np.var(control_variate)\n",
    "    # loss -= alpha * (control_variate - expected_control)\n",
    "\n",
    "    return np.sum(loss), np.var(loss)"
   ],
   "metadata": {
    "collapsed": false,
    "ExecuteTime": {
     "end_time": "2024-12-14T02:27:01.901996Z",
     "start_time": "2024-12-14T02:27:01.864306Z"
    }
   },
   "id": "ed4010241642e760"
  },
  {
   "cell_type": "code",
   "execution_count": 5,
   "outputs": [
    {
     "name": "stderr",
     "output_type": "stream",
     "text": [
      "[Parallel(n_jobs=-1)]: Using backend LokyBackend with 8 concurrent workers.\n",
      "[Parallel(n_jobs=-1)]: Done   2 tasks      | elapsed:    3.2s\n",
      "[Parallel(n_jobs=-1)]: Done  64 tasks      | elapsed:    3.3s\n",
      "[Parallel(n_jobs=-1)]: Done 1616 tasks      | elapsed:    4.4s\n",
      "[Parallel(n_jobs=-1)]: Done 6928 tasks      | elapsed:    6.8s\n",
      "[Parallel(n_jobs=-1)]: Done 17296 tasks      | elapsed:   10.2s\n",
      "[Parallel(n_jobs=-1)]: Done 29968 tasks      | elapsed:   14.9s\n",
      "[Parallel(n_jobs=-1)]: Done 44944 tasks      | elapsed:   20.1s\n",
      "[Parallel(n_jobs=-1)]: Done 62224 tasks      | elapsed:   26.5s\n",
      "[Parallel(n_jobs=-1)]: Done 81808 tasks      | elapsed:   34.0s\n",
      "[Parallel(n_jobs=-1)]: Done 103696 tasks      | elapsed:   41.9s\n",
      "[Parallel(n_jobs=-1)]: Done 127888 tasks      | elapsed:   57.1s\n",
      "[Parallel(n_jobs=-1)]: Done 154384 tasks      | elapsed:  1.1min\n",
      "[Parallel(n_jobs=-1)]: Done 183184 tasks      | elapsed:  1.4min\n",
      "[Parallel(n_jobs=-1)]: Done 200000 out of 200000 | elapsed:  1.5min finished\n"
     ]
    }
   ],
   "source": [
    "factors = np.random.normal(0, 1, (num_obvs, len(r) + len(data)))\n",
    "antithetic_factors = -factors\n",
    "combined_factors = np.vstack([factors, antithetic_factors])\n",
    "\n",
    "answers = Parallel(n_jobs=-1, verbose=5)(delayed(process_obs)(obs) for obs in combined_factors)\n",
    "answers = np.array(answers)\n",
    "\n",
    "sample_losses = answers[:, 0]\n",
    "sample_vars = answers[:, 1]"
   ],
   "metadata": {
    "collapsed": false,
    "ExecuteTime": {
     "end_time": "2024-12-14T02:30:39.430476Z",
     "start_time": "2024-12-14T02:27:06.627886Z"
    }
   },
   "id": "fb6bfcf47319cccd"
  },
  {
   "cell_type": "code",
   "execution_count": 8,
   "outputs": [],
   "source": [
    "VaR_antithetic = np.percentile(-np.array(sample_losses), 99.9)"
   ],
   "metadata": {
    "collapsed": false,
    "ExecuteTime": {
     "end_time": "2024-12-14T02:30:57.742243Z",
     "start_time": "2024-12-14T02:30:57.688747Z"
    }
   },
   "id": "23e1c157058026bb"
  },
  {
   "cell_type": "code",
   "execution_count": 9,
   "outputs": [
    {
     "name": "stdout",
     "output_type": "stream",
     "text": [
      "Średnia wariancji strat: 1341.5054079126141\n",
      "VaR antetyczny (100-ty wynik): 23639.942384612878\n"
     ]
    }
   ],
   "source": [
    "print(\"Średnia wariancji strat:\", np.mean(sample_vars))\n",
    "print(\"VaR antetyczny (100-ty wynik):\", VaR_antithetic)"
   ],
   "metadata": {
    "collapsed": false,
    "ExecuteTime": {
     "end_time": "2024-12-14T02:30:58.101089Z",
     "start_time": "2024-12-14T02:30:58.068366Z"
    }
   },
   "id": "7bda91dd0e7c3b1"
  },
  {
   "cell_type": "markdown",
   "source": [],
   "metadata": {
    "collapsed": false
   },
   "id": "1c2ec2a1b43a4adf"
  },
  {
   "cell_type": "markdown",
   "source": [],
   "metadata": {
    "collapsed": false
   },
   "id": "add809037d6570fd"
  },
  {
   "cell_type": "markdown",
   "source": [],
   "metadata": {
    "collapsed": false
   },
   "id": "a744d64e45c03299"
  },
  {
   "cell_type": "code",
   "execution_count": null,
   "outputs": [],
   "source": [
    "from scipy.stats import genpareto\n",
    "\n",
    "data = pd.read_csv('data.csv')\n",
    "\n",
    "num_obvs = 100_000\n",
    "r = np.array([.295, .49, .41, .415, .338, .64, .403, .476])\n",
    "sector_indices = data['sector'].values\n",
    "sec_loading = r[sector_indices]\n",
    "datat = norm.ppf(data['p'])\n",
    "\n",
    "\n",
    "shift = 2.0  # Tail shift parameter; focus on extreme losses\n",
    "factors_tail = np.random.normal(shift, 1, (num_obvs, len(r) + len(data)))\n",
    "antithetic_factors_tail = -factors_tail\n",
    "combined_factors_tail = np.vstack([factors_tail, antithetic_factors_tail])\n",
    "\n",
    "answers2 = Parallel(n_jobs=-1, verbose=5)(delayed(process_obs)(obs) for obs in combined_factors_tail)\n",
    "answers2 = np.array(answers2)\n",
    "\n",
    "sample_losses2 = answers2[:, 0]\n",
    "sample_vars2 = answers2[:, 1]\n",
    "\n",
    "\n",
    "# 1. Define the threshold for extreme losses (e.g., 99th percentile)\n",
    "threshold = np.percentile(sample_losses, 99)  # Top 1% of losses\n",
    "print(f\"Threshold for GPD: {threshold}\")\n",
    "\n",
    "# 2. Extract excess losses (above the threshold)\n",
    "excess_losses = sample_losses[sample_losses > threshold] - threshold\n",
    "\n",
    "# 3. Fit the Generalized Pareto Distribution (GPD) to the excess losses\n",
    "shape, loc, scale = genpareto.fit(excess_losses)\n",
    "\n",
    "# 4. Estimate the 99.9% VaR using the fitted GPD\n",
    "p_tail = 0.999  # Target quantile for VaR\n",
    "n_excess = len(excess_losses)\n",
    "VaR_parametric = threshold + scale / shape * ((num_obvs / n_excess * (1 - p_tail)) ** (-shape) - 1)\n",
    "\n",
    "print(f\"Parametric VaR (GPD): {VaR_parametric}\")\n"
   ],
   "metadata": {
    "collapsed": false,
    "is_executing": true,
    "ExecuteTime": {
     "start_time": "2024-12-14T02:31:45.667142Z"
    }
   },
   "id": "78bebf8b4893a4c0"
  },
  {
   "cell_type": "code",
   "execution_count": null,
   "outputs": [],
   "source": [],
   "metadata": {
    "collapsed": false
   },
   "id": "6edb7f005c94fca"
  }
 ],
 "metadata": {
  "kernelspec": {
   "display_name": "Python 3",
   "language": "python",
   "name": "python3"
  },
  "language_info": {
   "codemirror_mode": {
    "name": "ipython",
    "version": 2
   },
   "file_extension": ".py",
   "mimetype": "text/x-python",
   "name": "python",
   "nbconvert_exporter": "python",
   "pygments_lexer": "ipython2",
   "version": "2.7.6"
  }
 },
 "nbformat": 4,
 "nbformat_minor": 5
}
