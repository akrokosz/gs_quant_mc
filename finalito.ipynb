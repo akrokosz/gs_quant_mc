{
 "cells": [
  {
   "cell_type": "code",
   "execution_count": 1,
   "outputs": [],
   "source": [
    "import numpy as np, pandas as pd, scipy.stats as st\n",
    "from scipy.stats import t, norm\n",
    "from joblib import Parallel, delayed"
   ],
   "metadata": {
    "collapsed": false,
    "ExecuteTime": {
     "end_time": "2024-12-14T03:43:30.917802Z",
     "start_time": "2024-12-14T03:43:29.031392Z"
    }
   },
   "id": "3280b9eb3c6a1597"
  },
  {
   "cell_type": "code",
   "execution_count": 2,
   "outputs": [],
   "source": [
    "data = pd.read_csv('data.csv')\n",
    "\n",
    "num_obvs = 100_000\n",
    "r = np.array([.295, .49, .41, .415, .338, .64, .403, .476])\n",
    "sector_indices = data['sector'].values\n",
    "sec_loading = r[sector_indices]\n",
    "datat = norm.ppf(data['p'])"
   ],
   "metadata": {
    "collapsed": false,
    "ExecuteTime": {
     "end_time": "2024-12-14T03:43:30.930495Z",
     "start_time": "2024-12-14T03:43:30.240793Z"
    }
   },
   "id": "73169c437e2a309c"
  },
  {
   "cell_type": "code",
   "execution_count": 3,
   "outputs": [],
   "source": [
    "def process_obs(obs):\n",
    "    m_factor = obs[0]  \n",
    "    sec_factor = obs[:len(r)][sector_indices]  \n",
    "    res_factor = obs[len(r):]  \n",
    "\n",
    "    control_variate = (\n",
    "            r[0]**0.5 * m_factor\n",
    "            + (sec_loading - r[0])**0.5 * sec_factor\n",
    "            + (1 - sec_loading)**0.5 * res_factor\n",
    "    )\n",
    "\n",
    "    ind = control_variate < datat\n",
    "    loss = np.zeros(len(data))\n",
    "\n",
    "    if np.any(ind):\n",
    "        loss[ind] = data.loc[ind, 'm'].values + data.loc[ind, 'd'].values * np.clip(t.rvs(df=3, size=sum(ind)), -5, 5)\n",
    "\n",
    "\n",
    "    # expected_control = np.mean(control_variate)\n",
    "    # alpha = np.cov(loss, control_variate)[0,1] / np.var(control_variate)\n",
    "    # loss -= alpha * (control_variate - expected_control)\n",
    "\n",
    "    return np.sum(loss), np.var(loss)"
   ],
   "metadata": {
    "collapsed": false,
    "ExecuteTime": {
     "end_time": "2024-12-14T03:43:30.931166Z",
     "start_time": "2024-12-14T03:43:30.247949Z"
    }
   },
   "id": "ed4010241642e760"
  },
  {
   "cell_type": "code",
   "execution_count": 6,
   "outputs": [
    {
     "name": "stderr",
     "output_type": "stream",
     "text": [
      "[Parallel(n_jobs=-1)]: Using backend LokyBackend with 8 concurrent workers.\n",
      "[Parallel(n_jobs=-1)]: Done   2 tasks      | elapsed:    5.1s\n",
      "[Parallel(n_jobs=-1)]: Done  64 tasks      | elapsed:    5.2s\n",
      "[Parallel(n_jobs=-1)]: Done 1616 tasks      | elapsed:    6.3s\n",
      "[Parallel(n_jobs=-1)]: Done 8208 tasks      | elapsed:    8.8s\n",
      "[Parallel(n_jobs=-1)]: Done 18576 tasks      | elapsed:   12.8s\n",
      "[Parallel(n_jobs=-1)]: Done 31248 tasks      | elapsed:   17.1s\n",
      "[Parallel(n_jobs=-1)]: Done 46224 tasks      | elapsed:   23.0s\n",
      "[Parallel(n_jobs=-1)]: Done 63504 tasks      | elapsed:   28.3s\n",
      "[Parallel(n_jobs=-1)]: Done 83088 tasks      | elapsed:   35.6s\n",
      "[Parallel(n_jobs=-1)]: Done 104976 tasks      | elapsed:   43.4s\n",
      "[Parallel(n_jobs=-1)]: Done 129168 tasks      | elapsed:   52.8s\n",
      "[Parallel(n_jobs=-1)]: Done 155664 tasks      | elapsed:  1.1min\n",
      "[Parallel(n_jobs=-1)]: Done 184464 tasks      | elapsed:  1.3min\n",
      "[Parallel(n_jobs=-1)]: Done 200000 out of 200000 | elapsed:  1.4min finished\n"
     ]
    }
   ],
   "source": [
    "factors = np.random.normal(0, 1, (num_obvs, len(r) + len(data)))\n",
    "antithetic_factors = -factors\n",
    "combined_factors = np.vstack([factors, antithetic_factors])\n",
    "\n",
    "answers = Parallel(n_jobs=-1, verbose=5)(delayed(process_obs)(obs) for obs in combined_factors)\n",
    "answers = np.array(answers)\n",
    "\n",
    "sample_losses = answers[:, 0]\n",
    "sample_vars = answers[:, 1]"
   ],
   "metadata": {
    "collapsed": false,
    "ExecuteTime": {
     "end_time": "2024-12-14T03:21:17.571572Z",
     "start_time": "2024-12-14T03:17:50.877723Z"
    }
   },
   "id": "fb6bfcf47319cccd"
  },
  {
   "cell_type": "code",
   "execution_count": 7,
   "outputs": [],
   "source": [
    "VaR_antithetic = np.percentile(-np.array(sample_losses), 99.9)"
   ],
   "metadata": {
    "collapsed": false,
    "ExecuteTime": {
     "end_time": "2024-12-14T03:21:18.223431Z",
     "start_time": "2024-12-14T03:21:17.380956Z"
    }
   },
   "id": "23e1c157058026bb"
  },
  {
   "cell_type": "code",
   "execution_count": 9,
   "outputs": [
    {
     "name": "stdout",
     "output_type": "stream",
     "text": [
      "Średnia wariancji strat: 1334.6152949979016\n",
      "VaR antetyczny (100-ty wynik): 23310.16054431194\n"
     ]
    }
   ],
   "source": [
    "print(\"Średnia wariancji strat:\", np.mean(sample_vars))\n",
    "print(\"VaR antetyczny (100-ty wynik):\", VaR_antithetic)"
   ],
   "metadata": {
    "collapsed": false
   },
   "id": "7bda91dd0e7c3b1"
  },
  {
   "cell_type": "code",
   "execution_count": null,
   "outputs": [],
   "source": [],
   "metadata": {
    "collapsed": false
   },
   "id": "748d44fdea426816"
  }
 ],
 "metadata": {
  "kernelspec": {
   "display_name": "Python 3",
   "language": "python",
   "name": "python3"
  },
  "language_info": {
   "codemirror_mode": {
    "name": "ipython",
    "version": 2
   },
   "file_extension": ".py",
   "mimetype": "text/x-python",
   "name": "python",
   "nbconvert_exporter": "python",
   "pygments_lexer": "ipython2",
   "version": "2.7.6"
  }
 },
 "nbformat": 4,
 "nbformat_minor": 5
}
