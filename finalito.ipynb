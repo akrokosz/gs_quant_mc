{
 "cells": [
  {
   "cell_type": "code",
   "execution_count": 2,
   "outputs": [],
   "source": [
    "import numpy as np, pandas as pd, scipy.stats as st\n",
    "from scipy.stats import t, norm\n",
    "from joblib import Parallel, delayed"
   ],
   "metadata": {
    "collapsed": false,
    "ExecuteTime": {
     "end_time": "2024-12-14T05:51:01.373924Z",
     "start_time": "2024-12-14T05:51:00.637879Z"
    }
   },
   "id": "3280b9eb3c6a1597"
  },
  {
   "cell_type": "code",
   "execution_count": 3,
   "outputs": [],
   "source": [
    "data = pd.read_csv('data.csv')\n",
    "\n",
    "num_obvs = 100_000\n",
    "r = np.array([.295, .49, .41, .415, .338, .64, .403, .476])\n",
    "sector_indices = data['sector'].values\n",
    "sec_loading = r[sector_indices]\n",
    "datat = norm.ppf(data['p'])"
   ],
   "metadata": {
    "collapsed": false,
    "ExecuteTime": {
     "end_time": "2024-12-14T05:51:03.338197Z",
     "start_time": "2024-12-14T05:51:03.019347Z"
    }
   },
   "id": "73169c437e2a309c"
  },
  {
   "cell_type": "code",
   "execution_count": 4,
   "outputs": [],
   "source": [
    "def process_obs(obs):\n",
    "    m_factor = obs[0]  \n",
    "    sec_factor = obs[:len(r)][sector_indices]  \n",
    "    res_factor = obs[len(r):]  \n",
    "\n",
    "    control_variate = (\n",
    "            r[0]**0.5 * m_factor\n",
    "            + (sec_loading - r[0])**0.5 * sec_factor\n",
    "            + (1 - sec_loading)**0.5 * res_factor\n",
    "    )\n",
    "\n",
    "    ind = control_variate < datat\n",
    "    loss = np.zeros(len(data))\n",
    "\n",
    "    if np.any(ind):\n",
    "        loss[ind] = data.loc[ind, 'm'].values + data.loc[ind, 'd'].values * np.clip(t.rvs(df=3, size=sum(ind)), -5, 5)\n",
    "\n",
    "\n",
    "    expected_control = np.mean(control_variate)\n",
    "    alpha = np.cov(loss, control_variate)[0,1] / np.var(control_variate)\n",
    "    loss -= alpha * (control_variate - expected_control)\n",
    "\n",
    "    return np.sum(loss), np.var(loss)"
   ],
   "metadata": {
    "collapsed": false,
    "ExecuteTime": {
     "end_time": "2024-12-14T05:51:04.186616Z",
     "start_time": "2024-12-14T05:51:04.159793Z"
    }
   },
   "id": "ed4010241642e760"
  },
  {
   "cell_type": "code",
   "execution_count": 5,
   "outputs": [
    {
     "name": "stderr",
     "output_type": "stream",
     "text": [
      "[Parallel(n_jobs=-1)]: Using backend LokyBackend with 8 concurrent workers.\n",
      "[Parallel(n_jobs=-1)]: Done   2 tasks      | elapsed:    3.7s\n",
      "[Parallel(n_jobs=-1)]: Done  64 tasks      | elapsed:    3.9s\n",
      "[Parallel(n_jobs=-1)]: Done 1616 tasks      | elapsed:    4.8s\n",
      "[Parallel(n_jobs=-1)]: Done 9232 tasks      | elapsed:    7.7s\n",
      "[Parallel(n_jobs=-1)]: Done 19600 tasks      | elapsed:   12.0s\n",
      "[Parallel(n_jobs=-1)]: Done 32272 tasks      | elapsed:   19.1s\n",
      "[Parallel(n_jobs=-1)]: Done 47248 tasks      | elapsed:   25.4s\n",
      "[Parallel(n_jobs=-1)]: Done 64528 tasks      | elapsed:   35.4s\n",
      "[Parallel(n_jobs=-1)]: Done 84112 tasks      | elapsed:   45.4s\n",
      "[Parallel(n_jobs=-1)]: Done 103600 tasks      | elapsed:  1.0min\n",
      "[Parallel(n_jobs=-1)]: Done 120208 tasks      | elapsed:  1.2min\n",
      "[Parallel(n_jobs=-1)]: Done 146608 tasks      | elapsed:  1.4min\n",
      "[Parallel(n_jobs=-1)]: Done 189808 tasks      | elapsed:  1.7min\n",
      "[Parallel(n_jobs=-1)]: Done 199985 out of 200000 | elapsed:  1.8min remaining:    0.0s\n",
      "[Parallel(n_jobs=-1)]: Done 200000 out of 200000 | elapsed:  1.8min finished\n"
     ]
    }
   ],
   "source": [
    "factors = np.random.normal(0, 1, (num_obvs, len(r) + len(data)))\n",
    "antithetic_factors = -factors\n",
    "combined_factors = np.vstack([factors, antithetic_factors])\n",
    "\n",
    "answers = Parallel(n_jobs=-1, verbose=5)(delayed(process_obs)(obs) for obs in combined_factors)\n",
    "answers = np.array(answers)\n",
    "\n",
    "sample_losses = answers[:, 0]\n",
    "sample_vars = answers[:, 1]"
   ],
   "metadata": {
    "collapsed": false,
    "ExecuteTime": {
     "end_time": "2024-12-14T05:54:52.208169Z",
     "start_time": "2024-12-14T05:51:05.096584Z"
    }
   },
   "id": "fb6bfcf47319cccd"
  },
  {
   "cell_type": "code",
   "execution_count": 6,
   "outputs": [],
   "source": [
    "VaR_antithetic = np.percentile(-np.array(sample_losses), 99.9)"
   ],
   "metadata": {
    "collapsed": false,
    "ExecuteTime": {
     "end_time": "2024-12-14T05:54:53.362504Z",
     "start_time": "2024-12-14T05:54:53.013556Z"
    }
   },
   "id": "23e1c157058026bb"
  },
  {
   "cell_type": "code",
   "execution_count": 7,
   "outputs": [
    {
     "name": "stdout",
     "output_type": "stream",
     "text": [
      "Średnia wariancji strat: 1361.7585736896149\n",
      "VaR antetyczny (100-ty wynik): 23154.336249076463\n"
     ]
    }
   ],
   "source": [
    "print(\"Avarage loss varianve:\", np.mean(sample_vars))\n",
    "print(\"Anthetic VaR at 99.9% Quantile:\", VaR_antithetic)"
   ],
   "metadata": {
    "collapsed": false,
    "ExecuteTime": {
     "end_time": "2024-12-14T05:54:53.390963Z",
     "start_time": "2024-12-14T05:54:53.017403Z"
    }
   },
   "id": "7bda91dd0e7c3b1"
  },
  {
   "cell_type": "code",
   "execution_count": 1,
   "outputs": [
    {
     "ename": "NameError",
     "evalue": "name 'sample_losses' is not defined",
     "output_type": "error",
     "traceback": [
      "\u001B[0;31m---------------------------------------------------------------------------\u001B[0m",
      "\u001B[0;31mNameError\u001B[0m                                 Traceback (most recent call last)",
      "Cell \u001B[0;32mIn[1], line 4\u001B[0m\n\u001B[1;32m      1\u001B[0m \u001B[38;5;28;01mimport\u001B[39;00m \u001B[38;5;21;01mmatplotlib\u001B[39;00m\u001B[38;5;21;01m.\u001B[39;00m\u001B[38;5;21;01mpyplot\u001B[39;00m \u001B[38;5;28;01mas\u001B[39;00m \u001B[38;5;21;01mplt\u001B[39;00m\n\u001B[1;32m      3\u001B[0m num_steps \u001B[38;5;241m=\u001B[39m \u001B[38;5;241m100\u001B[39m  \n\u001B[0;32m----> 4\u001B[0m num_paths \u001B[38;5;241m=\u001B[39m \u001B[38;5;28mlen\u001B[39m(sample_losses) \u001B[38;5;241m/\u001B[39m\u001B[38;5;241m/\u001B[39m num_steps\n\u001B[1;32m      6\u001B[0m reshaped_losses \u001B[38;5;241m=\u001B[39m sample_losses[:num_steps \u001B[38;5;241m*\u001B[39m num_paths]\u001B[38;5;241m.\u001B[39mreshape(num_steps, num_paths)\n\u001B[1;32m      7\u001B[0m cumulative_losses \u001B[38;5;241m=\u001B[39m np\u001B[38;5;241m.\u001B[39mcumsum(reshaped_losses, axis\u001B[38;5;241m=\u001B[39m\u001B[38;5;241m0\u001B[39m)\n",
      "\u001B[0;31mNameError\u001B[0m: name 'sample_losses' is not defined"
     ]
    }
   ],
   "source": [
    "import matplotlib.pyplot as plt\n",
    "\n",
    "num_steps = 100  \n",
    "num_paths = len(sample_losses) // num_steps\n",
    "\n",
    "reshaped_losses = sample_losses[:num_steps * num_paths].reshape(num_steps, num_paths)\n",
    "cumulative_losses = np.cumsum(reshaped_losses, axis=0)\n",
    "\n",
    "plt.figure(figsize=(12, 6))\n",
    "plt.plot(cumulative_losses, alpha=0.6, lw=1)\n",
    "plt.title(\"Monte Carlo Paths of Aggregate Losses\")\n",
    "plt.xlabel(\"Time Steps\")\n",
    "plt.ylabel(\"Cumulative Loss\")\n",
    "plt.grid()\n",
    "plt.show()"
   ],
   "metadata": {
    "collapsed": false,
    "ExecuteTime": {
     "end_time": "2024-12-14T05:50:48.992250Z",
     "start_time": "2024-12-14T05:50:48.275247Z"
    }
   },
   "id": "748d44fdea426816"
  },
  {
   "cell_type": "code",
   "execution_count": null,
   "outputs": [],
   "source": [
    "import numpy as np\n",
    "import matplotlib.pyplot as plt\n",
    "from scipy.stats import gaussian_kde\n",
    "\n",
    "losses = np.array(sample)\n",
    "\n",
    "kde = gaussian_kde(losses)\n",
    "\n",
    "x_values = np.linspace(min(losses), max(losses), 1000)\n",
    "kde_values = kde(x_values)\n",
    "\n",
    "plt.figure(figsize=(10, 6))\n",
    "plt.plot(x_values, kde_values, color='blue', label='KDE of Losses')\n",
    "plt.title(\"Smoothed Loss Distribution (KDE)\")\n",
    "plt.xlabel(\"Total Loss\")\n",
    "plt.ylabel(\"Density\")\n",
    "plt.legend()\n",
    "plt.show()"
   ],
   "metadata": {
    "collapsed": false
   },
   "id": "fcf13ba39cc6cc39"
  }
 ],
 "metadata": {
  "kernelspec": {
   "display_name": "Python 3",
   "language": "python",
   "name": "python3"
  },
  "language_info": {
   "codemirror_mode": {
    "name": "ipython",
    "version": 2
   },
   "file_extension": ".py",
   "mimetype": "text/x-python",
   "name": "python",
   "nbconvert_exporter": "python",
   "pygments_lexer": "ipython2",
   "version": "2.7.6"
  }
 },
 "nbformat": 4,
 "nbformat_minor": 5
}
