{
 "cells": [
  {
   "cell_type": "code",
   "outputs": [],
   "source": [
    "import numpy as np, pandas as pd, scipy.stats as st\n",
    "from scipy.stats import norm\n",
    "from joblib import Parallel, delayed\n",
    "from scipy.stats import qmc\n",
    "\n",
    "num_obvs = 100_000\n",
    "data = pd.read_csv(\"data.csv\")\n",
    "r = np.array([.295, .49, .41, .415, .338, .64, .403, .476])\n",
    "data[\"sec_loading\"], data[\"t\"] = r[data[\"sector\"].values], st.norm.ppf(data.p)\n",
    "factors, sample = np.random.normal(0,1, (num_obvs, len(r)+len(data))), []\n",
    "\n",
    "def process_obs(obs):\n",
    "    m_factor, sec_factor, res_factor = obs[0], obs[:len(r)][data.sector.values], obs[len(r):]\n",
    "    ind = (\n",
    "            r[0]**.5 * m_factor + (data.sec_loading-r[0])**.5 * sec_factor + (1-data.sec_loading)**.5 * res_factor\n",
    "            < data.t\n",
    "    )\n",
    "    loss = np.zeros((len(data),))\n",
    "    loss[ind] = data[ind].m + data[ind].d * np.random.standard_t(3, size=sum(ind))\n",
    "    return sum(loss), np.var(loss)\n",
    "\n",
    "answers = Parallel(n_jobs=-1)(delayed(process_obs)(obs) for obs in factors)\n",
    "answers = np.array(answers)\n",
    "\n",
    "# Wyniki\n",
    "sample_losses = answers[:, 0]\n",
    "sample_vars = answers[:, 1]\n",
    "\n",
    "# Obliczenie VaR\n",
    "VaR_qmc = sorted([-s for s in sample_losses])[int(0.001*num_obvs)]  # Wyciąganie 100-tego wyniku z posortowanych strat\n"
   ],
   "metadata": {
    "collapsed": false,
    "ExecuteTime": {
     "end_time": "2024-12-14T02:15:54.255066500Z",
     "start_time": "2024-12-14T02:15:03.388790400Z"
    }
   },
   "id": "5811969719ef669d",
   "execution_count": 1
  },
  {
   "cell_type": "code",
   "outputs": [
    {
     "data": {
      "text/plain": "-17206.931303687852"
     },
     "execution_count": 2,
     "metadata": {},
     "output_type": "execute_result"
    }
   ],
   "source": [
    "VaR_qmc"
   ],
   "metadata": {
    "collapsed": false,
    "ExecuteTime": {
     "end_time": "2024-12-14T02:15:54.264087400Z",
     "start_time": "2024-12-14T02:15:54.258096700Z"
    }
   },
   "id": "52352377bd5e9536",
   "execution_count": 2
  },
  {
   "cell_type": "code",
   "outputs": [
    {
     "data": {
      "text/plain": "1360.181267462014"
     },
     "execution_count": 3,
     "metadata": {},
     "output_type": "execute_result"
    }
   ],
   "source": [
    "np.mean(sample_vars)"
   ],
   "metadata": {
    "collapsed": false,
    "ExecuteTime": {
     "end_time": "2024-12-14T02:15:54.272464100Z",
     "start_time": "2024-12-14T02:15:54.266083Z"
    }
   },
   "id": "ea2741e9390a1033",
   "execution_count": 3
  },
  {
   "cell_type": "code",
   "outputs": [],
   "source": [],
   "metadata": {
    "collapsed": false
   },
   "id": "d625933f064f7dd6"
  }
 ],
 "metadata": {
  "kernelspec": {
   "display_name": "Python 3",
   "language": "python",
   "name": "python3"
  },
  "language_info": {
   "codemirror_mode": {
    "name": "ipython",
    "version": 2
   },
   "file_extension": ".py",
   "mimetype": "text/x-python",
   "name": "python",
   "nbconvert_exporter": "python",
   "pygments_lexer": "ipython2",
   "version": "2.7.6"
  }
 },
 "nbformat": 4,
 "nbformat_minor": 5
}
