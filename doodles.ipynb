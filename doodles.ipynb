{
 "cells": [
  {
   "cell_type": "code",
   "id": "initial_id",
   "metadata": {
    "collapsed": true,
    "ExecuteTime": {
     "end_time": "2024-12-13T22:30:34.430068Z",
     "start_time": "2024-12-13T22:30:34.425314Z"
    }
   },
   "source": [
    "# 1) quasi random numbers\n",
    "# 2) importance sampling: sample from the region of the tail (look for extremes) that is most important, this will reduce variance "
   ],
   "outputs": [],
   "execution_count": 53
  },
  {
   "cell_type": "markdown",
   "source": [
    "BASELINE"
   ],
   "metadata": {
    "collapsed": false
   },
   "id": "70602e955cd0fc57"
  },
  {
   "cell_type": "code",
   "source": [
    "import numpy as np, pandas as pd, scipy.stats as st"
   ],
   "metadata": {
    "collapsed": false,
    "ExecuteTime": {
     "end_time": "2024-12-13T22:30:34.486397Z",
     "start_time": "2024-12-13T22:30:34.483376Z"
    }
   },
   "id": "7676e8236601dd5e",
   "outputs": [],
   "execution_count": 54
  },
  {
   "cell_type": "code",
   "source": [
    "data = pd.read_csv('data.csv')\n",
    "num_obvs = 15000\n",
    "# risks per sector\n",
    "r = np.array([.295, .49, .41, .415, .338, .64, .403, .476])\n",
    "#sec_loading maps sector to its risk, t is the threshold for defaults\n",
    "data['sec_loading'], data['t'] = r[data['sector'].values], st.norm.ppf(data.p)\n",
    "# 100k monte carlo simulations and len(r)+len(data) risk factors per one sample\n",
    "factors, sample = np.random.normal(0,1, (num_obvs, len(r)+len(data))), []"
   ],
   "metadata": {
    "collapsed": false,
    "ExecuteTime": {
     "end_time": "2024-12-13T22:30:36.195752Z",
     "start_time": "2024-12-13T22:30:34.488577Z"
    }
   },
   "id": "a283bacc6b9730e0",
   "outputs": [],
   "execution_count": 55
  },
  {
   "cell_type": "code",
   "source": [
    "for obs in factors:\n",
    "    m_factor, sec_factor, res_factor = obs[0], obs[:len(r)][data.sector.values], obs[len(r):]\n",
    "    ind = r[0]**.5 * m_factor + (data.sec_loading-r[0])**.5 * sec_factor + (1-\n",
    "                                                                            data.sec_loading)**.5 * res_factor < data.t\n",
    "    loss = np.zeros((len(data),))\n",
    "    loss[ind] = data[ind].m + data[ind].d * np.random.standard_t(3, size=sum(ind\n",
    "                                                                             ))\n",
    "    sample.append(sum(loss))"
   ],
   "metadata": {
    "collapsed": false,
    "ExecuteTime": {
     "end_time": "2024-12-13T22:30:48.125626Z",
     "start_time": "2024-12-13T22:30:36.204382Z"
    }
   },
   "id": "fff02203cb4f61ad",
   "outputs": [],
   "execution_count": 56
  },
  {
   "cell_type": "code",
   "source": [
    "# extracts the 1% quantile from the sorted list of 100k obsercations\n",
    "VaR = sorted([-s for s in sample])[100]"
   ],
   "metadata": {
    "collapsed": false,
    "ExecuteTime": {
     "end_time": "2024-12-13T22:30:48.131217Z",
     "start_time": "2024-12-13T22:30:48.126202Z"
    }
   },
   "id": "d70f892eb407ee96",
   "outputs": [],
   "execution_count": 57
  },
  {
   "cell_type": "code",
   "execution_count": null,
   "outputs": [],
   "source": [],
   "metadata": {
    "collapsed": false
   },
   "id": "75aa071fcd0aa28e"
  },
  {
   "cell_type": "code",
   "execution_count": 78,
   "outputs": [
    {
     "data": {
      "text/plain": "-35783.94065872872"
     },
     "execution_count": 78,
     "metadata": {},
     "output_type": "execute_result"
    }
   ],
   "source": [
    "#SMALLEST VALUE PREDICTED BY MONTE CARLO\n",
    "np.min(sample)"
   ],
   "metadata": {
    "collapsed": false,
    "ExecuteTime": {
     "end_time": "2024-12-13T23:19:08.761326Z",
     "start_time": "2024-12-13T23:19:08.724241Z"
    }
   },
   "id": "acb08501cebb6f66"
  },
  {
   "cell_type": "code",
   "source": [
    "VaR"
   ],
   "metadata": {
    "collapsed": false,
    "ExecuteTime": {
     "end_time": "2024-12-13T22:30:48.136046Z",
     "start_time": "2024-12-13T22:30:48.133048Z"
    }
   },
   "id": "7f1531356a6326f7",
   "outputs": [
    {
     "data": {
      "text/plain": [
       "-8941.535575055796"
      ]
     },
     "execution_count": 58,
     "metadata": {},
     "output_type": "execute_result"
    }
   ],
   "execution_count": 58
  },
  {
   "cell_type": "markdown",
   "source": [
    "IMPORTANCE SELECTION"
   ],
   "metadata": {
    "collapsed": false
   },
   "id": "c5e5cf6ba1bb6193"
  },
  {
   "cell_type": "code",
   "source": [
    "import matplotlib.pyplot as plt\n",
    "\n",
    "plt.hist(sample, bins=50, density=True)\n",
    "plt.title(\"Preliminary Loss Distribution\")\n",
    "plt.xlabel(\"Total Loss\")\n",
    "plt.ylabel(\"Frequency\")\n",
    "plt.xlim(-40000,-500)\n",
    "plt.show()"
   ],
   "metadata": {
    "collapsed": false,
    "ExecuteTime": {
     "end_time": "2024-12-13T22:30:48.236725Z",
     "start_time": "2024-12-13T22:30:48.136603Z"
    }
   },
   "id": "9e2822eb1cf30de3",
   "outputs": [
    {
     "data": {
      "text/plain": [
       "<Figure size 640x480 with 1 Axes>"
      ],
      "image/png": "[encoded data removed]"
     },
     "metadata": {},
     "output_type": "display_data"
    }
   ],
   "execution_count": 59
  },
  {
   "cell_type": "code",
   "execution_count": 79,
   "outputs": [],
   "source": [
    "def target_pdf(x):\n",
    "    return st.t.pdf(x, df=3)\n",
    "\n",
    "def proposal_pdf(x, shift=-15000):\n",
    "    return st.t.pdf(x - shift, df=3)\n",
    "\n",
    "def generate_proposal_samples(size, shift=-10000):\n",
    "    return st.t.rvs(df=3, loc=shift, size=size)\n",
    "\n",
    "def importance_sampling_var(num_samples=100_000, shift=-10000):\n",
    "    sample_losses = []\n",
    "    weights = []\n",
    "\n",
    "    proposal_samples = generate_proposal_samples(num_samples, shift)\n",
    "\n",
    "    for obs in proposal_samples:\n",
    "        w = target_pdf(obs) / proposal_pdf(obs, shift)\n",
    "\n",
    "        m_factor = np.random.normal(0, 1)  # Global market factor\n",
    "        sec_factor = np.random.normal(0, 1, len(r))  # Sector factors\n",
    "        res_factor = obs  # Residual factor from the proposal distribution\n",
    "\n",
    "        ind = (r[0]**0.5 * m_factor +\n",
    "               (data.sec_loading - r[0])**0.5 * sec_factor[data['sector'].values] +\n",
    "               (1 - data.sec_loading)**0.5 * res_factor) < data['t']\n",
    "\n",
    "        loss = np.zeros(len(data))\n",
    "        loss[ind] = data['m'][ind] + data['d'][ind] * res_factor\n",
    "\n",
    "        # Weighted loss\n",
    "        sample_losses.append(np.sum(loss) * w)\n",
    "        weights.append(w)\n",
    "\n",
    "    sorted_losses = np.array(sample_losses)[np.argsort(sample_losses)]\n",
    "    sorted_weights = np.array(weights)[np.argsort(sample_losses)]\n",
    "    cumulative_weights = np.cumsum(sorted_weights) / np.sum(sorted_weights)\n",
    "\n",
    "    VaR_index = np.searchsorted(cumulative_weights, 0.999)\n",
    "    VaR = sorted_losses[VaR_index]\n",
    "\n",
    "    return VaR, sample_losses"
   ],
   "metadata": {
    "collapsed": false,
    "ExecuteTime": {
     "end_time": "2024-12-13T23:28:40.815286Z",
     "start_time": "2024-12-13T23:28:40.687021Z"
    }
   },
   "id": "dea1cb5a91b00920"
  },
  {
   "cell_type": "code",
   "execution_count": 80,
   "outputs": [],
   "source": [
    "Var2, losses2 = importance_sampling_var()"
   ],
   "metadata": {
    "collapsed": false,
    "ExecuteTime": {
     "end_time": "2024-12-13T23:31:43.854515Z",
     "start_time": "2024-12-13T23:30:39.320841Z"
    }
   },
   "id": "e648e9c810fa94b1"
  },
  {
   "cell_type": "code",
   "execution_count": 82,
   "outputs": [
    {
     "data": {
      "text/plain": "[-1.3066700551051613e-06,\n -0.0011614645240684922,\n -1.9511910646515727e-06,\n -2.060797362525313e-06,\n -3.5089458138194146e-06,\n -1.4001440110666749e-06,\n -1.6885039254195722e-06,\n -1.3141986797759197e-06,\n -6.0284585549505854e-06,\n -1.3190005651460325e-06,\n -2.3066619119217776e-06,\n -1.5204323957070825e-06,\n -9.180915759417668e-06,\n -9.965028997716893e-06,\n -1.3129980189504307e-06,\n -1.362281011347803e-06,\n -6.179988866020991e-06,\n -1.5124975981295102e-06,\n -1.4344469962204939e-06,\n -1.3708175353121611e-06,\n -1.5140699526760313e-06,\n -1.8705401401451607e-06,\n -4.972853213912716e-06,\n -7.430687419695678e-05,\n -3.888162997678699e-06,\n -2.147349672873468e-06,\n -1.3772618794542481e-06,\n -3.280209841009301e-06,\n -1.4239516342805527e-06,\n -2.187878085636181e-06,\n -1.6130357322114852e-05,\n -1.834531412735471e-06,\n -1.3809765962186621e-05,\n -3.2868555021694413e-06,\n -2.4335101624132084e-06,\n -1.309714911435178e-06,\n -1.5546253552237142e-05,\n -8.634429279780398e-06,\n -1.404575394408999e-06,\n -1.4338527007998946e-06,\n -6.437716664073125e-06,\n -1.3169095707933525e-06,\n -1.4466484568252484e-06,\n -1.9893190785653302e-06,\n -6.846452024973729e-06,\n -9.178954950500499e-06,\n -1.4109187741791382e-06,\n -3.224437071077726e-05,\n -1.8507265332219761e-06,\n -1.3074372009987107e-06,\n -5.152905664307233e-06,\n -1.3735889796817177e-06,\n -2.116817458038539e-06,\n -6.815502731308672e-06,\n -2.477929315619379e-06,\n -1.482441608310265e-06,\n -1.3450203503331304e-06,\n -1.3111158370389037e-05,\n -1.48518378324907e-06,\n -1.307481293757376e-06,\n -3.49102242108684e-05,\n -1.3238248761915077e-05,\n -2.33076767873549e-06,\n -1.6928530512714882e-06,\n -2.1942679231290545e-06,\n -1.367741875350298e-06,\n -3.552379473914604e-06,\n -2.8299252028457835e-06,\n -1.815091355951071e-06,\n -1.3155465919060215e-06,\n -1.6668820278286873e-06,\n -2.9807021572850217e-06,\n -5.685437815501465e-06,\n -3.8752596420472245e-06,\n -1.1001883074531004e-05,\n -1.4187867552656806e-06,\n -1.5602385176522103e-06,\n -1.3791418818365446e-06,\n -3.29915962534144e-06,\n -2.132507352161077e-06,\n -1.3307015602557215e-06,\n -5.526538379169794e-06,\n -1.3230648566540793e-06,\n -1.5442487199113323e-06,\n -1.327654200195338e-06,\n -8.120120193989588e-06,\n -1.3530602533501968e-06,\n -1.3072326342019343e-06,\n -1.3225457299796586e-06,\n -2.7619270295979403e-06,\n -1.5671347747062486e-06,\n -1.4926423771599169e-05,\n -1.546497945826754e-06,\n -4.871538193482929e-06,\n -2.2274464963704826e-06,\n -3.953786278242229e-06,\n -1.3911421293313533e-06,\n -3.431152101213771e-06,\n -1.8519967037072554e-05,\n -3.3906256146754674e-06,\n -6.851452690957107e-05,\n -0.00016367029211908387,\n -1.3379516149090683e-06,\n -2.8350298497196156e-06,\n -1.8409604254595829e-06,\n -1.3078037920526175e-06,\n -1.5747207091658086e-06,\n -1.4741332490487387e-06,\n -3.816685122802572e-06,\n -1.7869265578822868e-06,\n -8.505207090648961e-06,\n -3.0974139178924747e-06,\n -1.5804486411691388e-06,\n -4.7022569355777536e-06,\n -3.2312454646585544e-06,\n -1.678906604087972e-06,\n -2.0312366235736646e-06,\n -2.3343660346346804e-06,\n -3.6697781880429235e-06,\n -1.3838945057130347e-06,\n -1.5512222124581158e-06,\n -1.8282601267783438e-06,\n -1.5767558012616222e-06,\n -1.3192432176433888e-06,\n -1.5844664035297668e-06,\n -3.9974059409561714e-06,\n -1.1418491433369584e-05,\n -1.5860265447338735e-06,\n -5.573989314259071e-06,\n -1.5289248525344014e-06,\n -9.523070435053547e-06,\n -3.0721413219256055e-06,\n -4.180097747479744e-05,\n -1.4370989923053864e-06,\n -1.416966214640423e-06,\n -1.8148695167488275e-06,\n -0.0006726697929694548,\n -3.1494265580525837e-06,\n -1.5177778049656623e-06,\n -1.569795386889833e-06,\n -1.569663029037776e-06,\n -1.3082654160328108e-06,\n -1.3542538481162106e-06,\n -1.48993014183947e-05,\n -8.246219448531523e-06,\n -1.5898073524566164e-06,\n -4.306780133016756e-06,\n -1.7815254447821729e-06,\n -1.5105509735576195e-06,\n -1.3310376343041109e-06,\n -1.4267569752763256e-05,\n -1.7017053143837298e-06,\n -2.091075396734016e-06,\n -2.2273245194766307e-05,\n -1.6804456321560567e-06,\n -3.4684113104188754e-06,\n -3.263445374762665e-05,\n -1.4132789369325726e-06,\n -2.1012236203410333e-06,\n -1.8209680117601317e-06,\n -3.6487690772733766e-06,\n -1.7366305301135814e-06,\n -3.775140607753716e-06,\n -1.3631009727596912e-06,\n -1.6192775590295385e-06,\n -1.605435662771203e-06,\n -2.151451161758824e-06,\n -2.017760774064913e-06,\n -1.6702420320679112e-06,\n -1.4390716688813338e-06,\n -2.4891099193727433e-05,\n -0.0002954527160284714,\n -1.7716823219940735e-06,\n -1.4545319899220315e-06,\n -1.1644435638609802e-05,\n -1.4835062978190048e-06,\n -1.35977224478164e-06,\n -1.3118302313501344e-06,\n -1.467057201014063e-06,\n -1.306951961587936e-06,\n -1.309820493368428e-06,\n -1.939932566944116e-06,\n -1.3230199174206995e-06,\n -1.6682479866157053e-06,\n -4.238354353648664e-06,\n -6.726161561255814e-06,\n -1.428581325282428e-06,\n -1.608093129850957e-06,\n -2.073357727365511e-06,\n -1.4528539119502762e-06,\n -1.5591756880166374e-06,\n -1.8093845501878159e-06,\n -1.3580631793705798e-06,\n -3.552563023076696e-06,\n -3.979207634409497e-06,\n -1.5875200453788838e-06,\n -2.3496169385771587e-06,\n -9.122292789094512e-06,\n -1.3321474701579767e-06,\n -1.666361410067457e-06,\n -1.3528360772680104e-06,\n -2.4488179553708565e-05,\n -1.3446171152703824e-06,\n -1.3085210583676637e-06,\n -1.4944776310176364e-06,\n -1.3420063756518719e-06,\n -7.974485702060992e-06,\n -1.4130751342637278e-06,\n -1.319655469146084e-06,\n -1.6102293697291158e-06,\n -2.598347834742114e-06,\n -1.6485541988859186e-06,\n -1.7123309994358186e-06,\n -7.13396042472329e-06,\n -1.310211712400954e-06,\n -1.3141672931837025e-06,\n -2.331406191504258e-05,\n -2.31558781218064e-06,\n -1.6471002098969995e-06,\n -5.9684036646606044e-06,\n -1.9422092499482396e-06,\n -1.3091284248011473e-06,\n -1.3169237567808731e-06,\n -1.6317969065531754e-06,\n -1.6434428504883857e-06,\n -3.508547818667043e-06,\n -1.3070407312809936e-06,\n -3.294930574885788e-06,\n -2.6470982678177516e-06,\n -2.474022992137644e-06,\n -1.4142384339073435e-06,\n -1.4092516858769198e-06,\n -1.628077217906585e-05,\n -3.281488100046801e-06,\n -3.176921923245538e-06,\n -1.313919379145766e-06,\n -1.3096310856218695e-06,\n -1.3066608435291701e-06,\n -1.6512547424377489e-06,\n -1.3172760970864466e-06,\n -4.237137536520809e-06,\n -1.4426224843398408e-06,\n -1.419149131866063e-06,\n -1.3116789802560425e-06,\n -5.381342799847152e-06,\n -2.7116337921055985e-06,\n -2.742084294970221e-05,\n -1.3125366121729806e-06,\n -1.3070277282205173e-06,\n -2.05404137976807e-05,\n -2.5417044473540978e-06,\n -1.4060340058661386e-06,\n -1.3079811662562993e-06,\n -1.6123015628172197e-06,\n -7.149521952971279e-06,\n -1.4317666253630478e-06,\n -1.5070000365057427e-06,\n -1.6195828634088773e-06,\n -1.4938284475906928e-06,\n -5.707945165336108e-06,\n -2.8943734662718763e-06,\n -1.3627453840752468e-06,\n -1.4016127817048897e-06,\n -2.1919442109009932e-05,\n -5.379237207917326e-06,\n -1.5546694822939293e-06,\n -2.2293371592380724e-06,\n -1.4067913102642542e-06,\n -1.4072506387421946e-06,\n -1.898801616136145e-06,\n -1.9332275868075254e-05,\n -5.552108934608561e-06,\n -1.7712170228440018e-06,\n -1.3130141548794752e-06,\n -2.1743878237236277e-06,\n -1.5154654480517696e-06,\n -1.3175081110844381e-06,\n -1.422889070907217e-06,\n -1.7347740041444018e-06,\n -1.3104215499587387e-06,\n -1.4312226104497705e-06,\n -1.3413392081717847e-06,\n -1.3809927444184397e-06,\n -0.00040934944250233326,\n -1.3066620290166276e-06,\n -1.8478354573721798e-06,\n -3.9698080129316544e-06,\n -1.433155752504679e-06,\n -1.3418363343775223e-06,\n -8.341679086168834e-06,\n -5.315800309270629e-05,\n -1.3639185833819923e-06,\n -1.4806914918915833e-06,\n -1.6704588846836133e-06,\n -1.5925689885093694e-06,\n -2.2435324138176682e-05,\n -1.5211548544313063e-06,\n -2.1860131363873874e-05,\n -1.332392544894027e-06,\n -2.813361810586698e-06,\n -3.874309369835498e-06,\n -1.4626285245290404e-06,\n -1.484381629397291e-06,\n -1.3366310261348825e-06,\n -1.3400379164441269e-06,\n -3.6522756602638948e-06,\n -1.7794382036009166e-06,\n -4.261565654880301e-06,\n -2.4321566745412963e-06,\n -1.757600953608824e-06,\n -0.00011422350468074662,\n -1.8803345767955798e-06,\n -5.215275512005052e-06,\n -6.672010321720969e-06,\n -2.1693697905642665e-06,\n -1.806843006685132e-06,\n -6.112587672049531e-06,\n -8.752723163934643e-06,\n -2.582082132378687e-06,\n -1.3690518888716989e-06,\n -7.436336645421519e-06,\n -1.3357523659968213e-06,\n -1.481818582903452e-06,\n -1.3460041476610711e-06,\n -3.0147295598553596e-06,\n -1.3207678702833027e-06,\n -0.000979729885781231,\n -1.6830682209635656e-06,\n -1.4529403485656987e-06,\n -2.550401142223015e-06,\n -1.6923467152164186e-06,\n -3.950592993198462e-06,\n -1.6307186722086622e-06,\n -1.7847563135117215e-06,\n -1.5319035544865723e-05,\n -1.7266068640012231e-06,\n -3.0492425405788044e-06,\n -1.4541553444663918e-06,\n -1.6517268527589426e-06,\n -1.4753373973949165e-06,\n -1.3322368459800938e-06,\n -2.5001111735201055e-06,\n -1.5982611507307422e-06,\n -1.3071038395396091e-06,\n -1.3068708699279748e-06,\n -3.755736378805887e-06,\n -1.3441503811764538e-06,\n -1.3550791910090984e-06,\n -1.6577679965085346e-06,\n -1.3161279729018066e-06,\n -1.3134102853682598e-06,\n -3.849644005572439e-06,\n -1.314780777512578e-06,\n -1.3627303942847052e-06,\n -1.8476955320546976e-06,\n -2.3015153527825307e-06,\n -1.7992983642218615e-06,\n -1.3872456439761001e-06,\n -1.3249445730573687e-06,\n -1.6725413495439292e-06,\n -5.087081979013665e-05,\n -2.0412888602100037e-06,\n -1.5345667210553942e-06,\n -1.3587464663476761e-06,\n -1.4100582484823872e-06,\n -1.9996230129479496e-06,\n -3.6522336183767303e-06,\n -1.563955979331534e-06,\n -1.3072101083342076e-06,\n -1.8132267819912743e-06,\n -1.3110261642987225e-06,\n -2.1534565812509036e-06,\n -1.3598136562449758e-06,\n -2.1975012926061607e-06,\n -1.3066652207777806e-06,\n -6.526019949017435e-06,\n -9.863122072908831e-06,\n -1.3127709018671866e-06,\n -4.139025737010812e-06,\n -2.625689051050469e-06,\n -1.6704358043600103e-05,\n -3.735171184874783e-05,\n -1.6215241462764779e-06,\n -1.4838433664371633e-06,\n -2.326492332995142e-06,\n -2.0629562476722166e-06,\n -1.5805674538267566e-06,\n -1.7818253550128635e-06,\n -2.2203636857672253e-06,\n -3.0638648674630714e-06,\n -1.3081129149491183e-06,\n -2.3159316412503466e-06,\n -4.388744549224418e-06,\n -2.325767194408728e-06,\n -1.574516306691292e-05,\n -8.002674131588724e-05,\n -2.8947050070514963e-06,\n -1.4772064273600832e-06,\n -4.100177386288369e-06,\n -1.3096286135879832e-06,\n -3.8132662802750134e-06,\n -1.6359542191313747e-06,\n -1.8973443883825477e-06,\n -8.917680940902654e-05,\n -1.5629100298565957e-06,\n -2.5511433264795857e-06,\n -3.099500819514365e-06,\n -1.6260095783385544e-06,\n -1.6418514752468768e-06,\n -2.2289398783090857e-06,\n -0.00011303696527805071,\n -2.197922389120212e-06,\n -4.544310523264071e-06,\n -6.780887196741437e-06,\n -2.421506571214933e-06,\n -1.7520404093406333e-06,\n -3.4707034237544792e-06,\n -2.6849055757153823e-06,\n -1.5501597187731028e-06,\n -2.754371641847267e-06,\n -1.3252902770678997e-06,\n -7.396975591986767e-06,\n -8.93156585904362e-06,\n -1.3255610947705717e-06,\n -1.5322618549917217e-06,\n -1.9056397794821102e-05,\n -1.7769088823420836e-05,\n -2.026444733147997e-06,\n -1.4229204591220555e-06,\n -1.3079316315045278e-06,\n -1.7541842870852665e-06,\n -1.3303539026650156e-06,\n -1.6757750807156814e-06,\n -1.3629204383913815e-06,\n -1.8203780130034317e-06,\n -1.975493277044324e-06,\n -1.4535350979654995e-06,\n -2.8188518076924397e-06,\n -1.685051199387252e-06,\n -1.4252057708296534e-06,\n -2.050074836500464e-06,\n -1.3482357132397007e-06,\n -1.3761596588839507e-06,\n -2.038235887500629e-06,\n -2.007378930150809e-06,\n -1.312152268487164e-06,\n -2.5776179932729213e-06,\n -1.7595801563366004e-06,\n -1.1374628334765267e-05,\n -1.3223689541419516e-06,\n -1.3228002824684277e-06,\n -1.312369662323204e-06,\n -1.3117309841050215e-06,\n -7.567020537079474e-06,\n -2.123765416545844e-06,\n -2.3075777563045034e-05,\n -7.4820701814718076e-06,\n -2.5196075596661846e-06,\n -1.6687847165219881e-06,\n -1.9299776757672142e-06,\n -2.0320327827730322e-06,\n -2.2636608121224706e-06,\n -1.5570814166515755e-06,\n -1.3451458084712178e-06,\n -1.44967849284039e-06,\n -3.1579478194308465e-06,\n -1.4271220997431898e-06,\n -2.095865838834021e-06,\n -1.3446140130915042e-06,\n -4.314463489289552e-06,\n -1.7887425927901147e-06,\n -1.8088275918698592e-06,\n -2.144276137148758e-06,\n -1.384363880652827e-06,\n -2.419644050828856e-06,\n -9.173979035536022e-06,\n -2.5688290678156508e-06,\n -2.2012848942734587e-06,\n -6.3830385870909375e-06,\n -1.7036647524071188e-05,\n -1.3558627735901992e-06,\n -2.461810019166679e-06,\n -1.3881053238454437e-06,\n -1.3094577284268837e-06,\n -2.1554619884177983e-06,\n -4.5211556430753835e-06,\n -3.484625846602735e-05,\n -2.147408241464324e-06,\n -3.665634087054633e-06,\n -1.836801659796077e-06,\n -1.5170062603408783e-06,\n -1.6398444774696095e-06,\n -2.4153653371771355e-06,\n -3.983878717541848e-06,\n -1.3098472046360094e-06,\n -1.5139443968691684e-06,\n -1.1597750176450367e-05,\n -1.309544130049836e-06,\n -1.329502685706821e-06,\n -3.316187389331759e-06,\n -1.3112270336361388e-06,\n -2.6661043061699274e-06,\n -1.3638265084344663e-06,\n -2.790313132346882e-05,\n -1.3425101915338458e-06,\n -2.7960383381882285e-06,\n -1.3108521321937266e-06,\n -1.425450392632691e-06,\n -3.0378480073316364e-06,\n -1.329478492859145e-06,\n -4.180495329038984e-06,\n -2.1856733752903512e-06,\n -1.4901799870202528e-06,\n -1.3426058919359436e-06,\n -1.596650021466485e-06,\n -1.6471576349838209e-06,\n -2.428562789929182e-06,\n -4.439006444063829e-06,\n -1.327361993182352e-06,\n -1.3778034477804626e-06,\n -2.2963808829338467e-06,\n -1.4178485302561416e-06,\n -1.4498988032777092e-06,\n -6.884930042654234e-05,\n -1.4280745756487314e-06,\n -1.4139892388947222e-06,\n -1.83160833644561e-05,\n -2.1985359709424407e-06,\n -1.4214607395164788e-06,\n -5.0660980390053395e-06,\n -1.6147416138800804e-06,\n -3.742304650383079e-06,\n -1.308349066330678e-06,\n -1.3422652650440603e-06,\n -1.8043064098615931e-06,\n -2.0898291870150403e-06,\n -1.516002050136883e-06,\n -0.0014204803201143098,\n -4.478323607676408e-05,\n -6.992785315365465e-06,\n -1.4172096858042125e-06,\n -1.3322936875976404e-06,\n -1.4504076459183207e-06,\n -1.5576196231624258e-06,\n -1.43022500660223e-06,\n -2.7718206805546333e-06,\n -2.125783054412718e-06,\n -1.3644553748957813e-06,\n -3.3300056056503953e-06,\n -1.380371234127493e-06,\n -2.505896556360604e-06,\n -6.865227970956743e-06,\n -1.8572629218866223e-06,\n -1.4075941777360767e-06,\n -3.2805940362531006e-06,\n -8.115994694470033e-06,\n -1.763713783560787e-06,\n -1.2911391106169024e-05,\n -1.317354766449812e-06,\n -1.661248167882133e-06,\n -1.3413612144254605e-06,\n -1.339074450035714e-06,\n -7.212679557555273e-06,\n -3.5057935284597705e-06,\n -1.8297694299523058e-06,\n -2.0753602278884638e-06,\n -1.3900101467972784e-06,\n -1.8377374207784057e-06,\n -2.282128500943575e-06,\n -1.5424496679664778e-06,\n -1.6760724115536395e-06,\n -1.5169764385708857e-06,\n -1.438960231076647e-06,\n -3.9103213409749396e-06,\n -2.2171328545455852e-06,\n -1.6407776154548307e-06,\n -1.4673960452400465e-06,\n -1.7963661223108975e-06,\n -1.3970204968988755e-06,\n -2.031479104868213e-06,\n -9.368602404646078e-06,\n -3.966714478470415e-06,\n -1.8855453088053073e-06,\n -1.5523553745779586e-06,\n -2.809971440341203e-06,\n -1.6855247142362604e-06,\n -1.5874959783203704e-06,\n -5.947909903646542e-05,\n -4.620934599499522e-06,\n -3.4422651036091184e-05,\n -1.353537152279415e-06,\n -1.1106256893211325e-05,\n -1.6280209490575218e-06,\n -2.593950487472286e-06,\n -3.202193139046184e-06,\n -1.999603777272429e-06,\n -1.3174558735953195e-06,\n -1.3071502994431678e-06,\n -1.3073068422122423e-06,\n -1.3076393299494734e-06,\n -1.7343731914773148e-06,\n -9.674998708626545e-06,\n -1.3511433228440276e-06,\n -2.480997268906281e-05,\n -6.856080856469182e-06,\n -1.4699928789498343e-06,\n -1.8549096125764453e-06,\n -3.3288868543424164e-06,\n -1.7576396621961087e-06,\n -2.1590978824620073e-06,\n -1.3175003563876098e-06,\n -2.042560409896943e-06,\n -2.581576935614924e-06,\n -2.495118178673835e-06,\n -2.766647550067769e-06,\n -1.30989228198989e-06,\n -1.3074644268134795e-06,\n -1.309004134212729e-06,\n -1.3138465290600518e-06,\n -1.5842513932585502e-06,\n -1.3689623697849585e-06,\n -2.1311567149199116e-06,\n -4.587733042326244e-06,\n -1.4532111580426984e-06,\n -1.5817778185758838e-06,\n -8.187437491221604e-05,\n -1.550717603915468e-06,\n -5.018502511956467e-05,\n -1.7964165468700726e-06,\n -3.2190090111751073e-06,\n -1.3700732118798092e-06,\n -0.00015415667929401475,\n -1.876987624644956e-06,\n -1.5344672261440356e-06,\n -6.508894758187339e-06,\n -1.8471736809367953e-06,\n -1.4154695442686242e-05,\n -8.793664781874894e-06,\n -1.35676159243384e-06,\n -1.3066616152715028e-06,\n -1.109630252991778e-05,\n -2.8507116381107523e-06,\n -1.7167837463171746e-06,\n -2.6038591633489885e-06,\n -1.3080468959958115e-06,\n -1.400412813897413e-06,\n -1.5361442986083515e-06,\n -1.33821048561394e-06,\n -1.660096744123702e-06,\n -1.9728386947995275e-06,\n -1.6950078204029756e-06,\n -3.5305539513751217e-06,\n -2.4341137673497896e-06,\n -1.972735820114317e-06,\n -2.0663779235479787e-05,\n -4.739269830856699e-06,\n -5.975258489788503e-06,\n -1.3352058880867947e-06,\n -8.520463355136806e-06,\n -3.073474252074922e-06,\n -1.7376344328030807e-05,\n -1.324599215611935e-06,\n -1.6844311983900794e-06,\n -1.4867327537895357e-06,\n -7.180549091613386e-06,\n -1.7424203099760254e-05,\n -3.732491043531959e-06,\n -0.00022976622600663388,\n -1.3104792843397604e-06,\n -5.0655119283880445e-06,\n -1.3590335611222024e-06,\n -1.5626281325869638e-06,\n -1.404209518279448e-06,\n -1.5840295973819425e-05,\n -1.8801763304132787e-06,\n -1.7108508024296075e-06,\n -5.136565300779262e-06,\n -1.0776016896287454e-05,\n -1.5653651489305748e-06,\n -2.8609601766630453e-06,\n -1.3556664540832988e-05,\n -1.936808725616748e-06,\n -1.3540138786286645e-06,\n -5.261373739149094e-05,\n -6.146384545157917e-05,\n -2.1123806743385988e-06,\n -1.781313284504031e-06,\n -3.0428792065683323e-06,\n -1.3411414126066707e-06,\n -1.8563281755875052e-06,\n -6.959574149325105e-06,\n -0.00029316650255194134,\n -1.6704044156609431e-06,\n -1.7023915175692064e-06,\n -5.968829800785507e-06,\n -3.9152978375233335e-05,\n -1.3255573115908935e-06,\n -1.0423010643001517e-05,\n -2.3700302544959264e-06,\n -1.3090869185237112e-06,\n -1.4548682458764194e-06,\n -1.3495031980766267e-06,\n -1.5165757522372465e-06,\n -4.1509522273486765e-05,\n -1.327492302012369e-06,\n -1.3951636104235888e-06,\n -2.880597226043888e-06,\n -1.9747065455976485e-06,\n -2.0440170875614567e-06,\n -1.5450453107095873e-06,\n -1.450900383434171e-06,\n -1.797081413639588e-05,\n -1.3077412240298639e-06,\n -7.192518922362746e-06,\n -0.0004166807694445643,\n -8.794572283698785e-06,\n -1.4812848710686505e-06,\n -2.093972558441645e-06,\n -1.477306156061969e-06,\n -1.3148920759237107e-06,\n -1.9123204022320866e-06,\n -1.3640575419164268e-06,\n -1.9370383199786826e-06,\n -0.0007531578209424439,\n -1.8037374135236598e-06,\n -3.474710185052855e-05,\n -5.233153503422406e-06,\n -2.887938788833323e-06,\n -1.6639266394260095e-06,\n -1.3178644340283877e-06,\n -1.3602710159126843e-06,\n -1.4930643392524546e-06,\n -9.33649833630577e-06,\n -1.3948303804902812e-06,\n -1.8641711282435524e-06,\n -1.4222369457078356e-06,\n -5.183193839769987e-06,\n -4.763838099678159e-06,\n -1.747827137422177e-06,\n -2.094690948611501e-06,\n -1.806644424271857e-05,\n -1.8504265313849306e-06,\n -1.2972911324026624e-05,\n -1.92922150364227e-06,\n -4.352339486841375e-05,\n -1.4502565070978656e-06,\n -5.519417018296158e-06,\n -1.7570399884437312e-06,\n -6.667214794098362e-05,\n -1.8618797601173903e-06,\n -8.092677477000072e-05,\n -1.3744996601850013e-06,\n -0.00010347782105378238,\n -1.3563556209077049e-06,\n -2.233155650480604e-06,\n -8.454903910627606e-06,\n -2.2195227125526914e-06,\n -2.9233855774317407e-06,\n -1.511137775795568e-06,\n -9.082738640332657e-06,\n -1.3761819579261551e-05,\n -2.0901964331052104e-06,\n -1.419419698923291e-06,\n -1.8656835049989062e-06,\n -1.3076037612341006e-06,\n -1.7196231597789665e-06,\n -3.751777873257693e-05,\n -2.3988238369184114e-06,\n -1.3319212090206147e-06,\n -6.723250784933097e-06,\n -3.7961379802938113e-06,\n -4.271462905794745e-06,\n -1.343400646787793e-06,\n -2.647651476015578e-06,\n -2.5231795770235536e-06,\n -1.5953595865612834e-06,\n -5.895969590471178e-06,\n -2.805128248797906e-06,\n -1.5600919895706232e-06,\n -5.565171018496282e-06,\n -3.092092870561401e-05,\n -2.8043884974240064e-06,\n -1.4402377702570637e-06,\n -1.6348331429245735e-05,\n -3.5684175008075535e-06,\n -1.566561034799545e-06,\n -1.910533245450819e-06,\n -1.4640390158364644e-06,\n -1.4358414888401493e-06,\n -8.436643207196413e-06,\n -1.462304091572356e-06,\n -1.838951743562996e-06,\n -1.3066809822925376e-06,\n -1.8260425058364553e-06,\n -1.4892164663912762e-06,\n -1.4891086621040927e-06,\n -2.3274500313654255e-06,\n -2.8112778171217305e-06,\n -1.4719438307150415e-06,\n -1.3211384686589573e-06,\n -1.4493915582850087e-06,\n -2.074622172018184e-06,\n -1.5497962168289545e-06,\n -1.6959588895908927e-06,\n -8.389257845944783e-06,\n -1.6786640430300445e-06,\n -1.5172515012742187e-06,\n -4.982835497309081e-06,\n -1.3793317766449855e-06,\n -1.3162852378651117e-06,\n -4.0282540919179945e-06,\n -4.062584293561697e-06,\n -1.3088454745876105e-06,\n -1.803329294541414e-06,\n -3.865206948386341e-06,\n -6.206025152862381e-06,\n -3.237948317011493e-05,\n -2.8910623507864232e-06,\n -6.193535058414192e-06,\n -2.5500654684909048e-06,\n -4.480311428731195e-06,\n -5.418720616782942e-06,\n -1.3106751721480808e-06,\n -1.65300198605851e-06,\n -1.6056477447996435e-06,\n -1.3658693864850856e-06,\n -3.118971313665537e-06,\n -1.550030736602931e-06,\n -1.310087320272334e-06,\n -3.3452302747794623e-06,\n -4.23030774082641e-06,\n -5.145114854493485e-05,\n -4.419619307867093e-06,\n -1.3783377041135826e-06,\n -1.360658325730268e-06,\n -5.65567787888816e-05,\n -1.4643882635272433e-06,\n -1.8589388785553683e-06,\n -1.393069503490757e-06,\n -2.0836717156486265e-06,\n -4.5492802195585896e-06,\n -1.3162490609231747e-06,\n -1.380374142364207e-06,\n -1.7606216921160256e-06,\n -1.8855404961984218e-06,\n -2.0920670019275382e-06,\n -1.3566179335263696e-06,\n -3.2401136704709215e-06,\n -5.091879217816881e-06,\n -1.308896146481681e-06,\n -1.6391133772390747e-06,\n -2.8890170626056904e-06,\n -1.6660667371338356e-06,\n -1.9260407897408895e-06,\n -2.5678022451063575e-06,\n -1.6720942889509464e-06,\n -1.3177786714401022e-06,\n -1.6022482697067867e-06,\n -4.851576073632504e-06,\n -7.331058402261532e-06,\n -5.042817652355087e-05,\n -1.3088601471951935e-06,\n -1.0782117558877266e-05,\n -1.3196729777679355e-06,\n -1.31416291018496e-06,\n -1.6367091221117543e-06,\n -1.7374984551774107e-06,\n -6.828562614473434e-06,\n -1.592176204609351e-06,\n -1.3987518847515726e-06,\n -2.4327084395752093e-06,\n -4.754062786527501e-06,\n -1.3946871331581952e-06,\n -6.77265827363334e-06,\n -1.3369199636108509e-06,\n -2.723441358796542e-06,\n -3.601247839816496e-06,\n -3.078936106297554e-06,\n -1.0177741515549568e-05,\n -1.9551470692181924e-06,\n -7.244649350302358e-06,\n -1.0075325271969074e-05,\n -0.005352280982128993,\n -1.8285678596603614e-06,\n -1.5876029350062069e-06,\n -1.7168298908115287e-06,\n -3.5363970665512396e-06,\n -2.6778422200674758e-06,\n -1.5274997263788072e-06,\n -5.829473784352733e-06,\n -3.1628035688150476e-05,\n -1.610818404639241e-06,\n -1.4311659725207116e-06,\n -1.956036378299436e-06,\n -1.8602326162245452e-05,\n -3.646820931686889e-06,\n -2.399242929558949e-06,\n -8.590249293774069e-06,\n -1.428743047623942e-06,\n -2.8954309514747094e-06,\n -2.086168390526859e-06,\n -1.8490889102954781e-06,\n -1.907292445461613e-06,\n -4.217344263727796e-06,\n -1.535537096227814e-06,\n -1.3335672432699122e-06,\n -2.2278160336554943e-06,\n -1.4693410771952298e-06,\n -4.3660682422988106e-05,\n -1.3100839102957878e-06,\n -1.443974140368904e-06,\n -1.3271557373013858e-06,\n -1.9124511900333317e-06,\n -1.308461675993378e-06,\n -1.8588855424890874e-06,\n -1.6474896813607126e-06,\n -1.3146515822390668e-06,\n -3.5178907557683324e-06,\n -1.8878598673349452e-06,\n -1.4563354030970743e-06,\n -1.3262711063017435e-06,\n -0.0005645269867019126,\n -1.320265458959107e-06,\n -7.471349012175151e-06,\n -1.5293832755351087e-06,\n -3.0840494050413805e-06,\n -1.4358004383798983e-06,\n -2.1831767730914457e-06,\n -4.721195554242279e-06,\n -1.3840528936842986e-06,\n -2.0694209526006063e-06,\n -1.3165416787249918e-06,\n -2.144178819425307e-06,\n -9.131890803800197e-06,\n -2.6467608655493183e-06,\n -1.5360041422347357e-06,\n -1.4875625901392529e-05,\n -1.3209937037660482e-06,\n -2.4164543678082852e-06,\n -0.0004324148117539029,\n -1.5699847408554913e-06,\n -1.0047686352290539e-05,\n -1.399579022921613e-06,\n -3.073913766920751e-06,\n -1.414349840632068e-06,\n -0.0005557667135151642,\n -1.3813285920070392e-06,\n -1.6150203969329016e-05,\n -1.3234335686945407e-06,\n -3.1336845070549246e-06,\n -1.3512921729655768e-06,\n -1.5617806487229614e-06,\n -1.8067896975525247e-06,\n -4.08079466161229e-06,\n -1.3375153459033348e-06,\n -1.3429982142327799e-06,\n -1.9885502413405374e-06,\n -1.3787197099405317e-06,\n -5.079813520992963e-06,\n -1.373962621866905e-06,\n -1.6272908819666784e-06,\n -2.788580318937328e-05,\n -1.3505913381550883e-06,\n -1.990384940438978e-06,\n -2.58830674372072e-06,\n -0.0001796052972582647,\n -0.00022623098254742944,\n -1.491103862355031e-06,\n -1.0859719098199054e-05,\n -1.3233301960493678e-06,\n -3.3272756121511784e-06,\n -1.4366551574742732e-06,\n -2.6953236305263986e-06,\n -1.4728758694685097e-06,\n -9.970250179558333e-06,\n -1.320565066096957e-06,\n -1.1577199362228336e-05,\n -1.4442863396340948e-06,\n -2.5141491899830912e-06,\n -1.4726686740795783e-06,\n -1.7421015541244477e-06,\n -1.8972023134844495e-06,\n -1.3548040581316412e-06,\n -1.3265899427659777e-06,\n -2.1036173794598865e-06,\n -2.858181963374318e-06,\n -1.9706766129438678e-06,\n -8.014530253283346e-05,\n -1.7802597808045806e-06,\n -8.910691403753421e-06,\n -3.0828312092302336e-05,\n -3.245792976533213e-06,\n -1.3071281584282283e-06,\n -1.5148960445698193e-06,\n -1.58372447413365e-06,\n -3.385332581531e-06,\n -2.5418836998710396e-06,\n -7.720601458235371e-06,\n -6.900249427175807e-06,\n -1.655135787837942e-06,\n ...]"
     },
     "execution_count": 82,
     "metadata": {},
     "output_type": "execute_result"
    }
   ],
   "source": [
    "losses2"
   ],
   "metadata": {
    "collapsed": false,
    "ExecuteTime": {
     "end_time": "2024-12-13T23:32:24.932161Z",
     "start_time": "2024-12-13T23:32:24.914427Z"
    }
   },
   "id": "e91d7d44eb0c9d9"
  },
  {
   "cell_type": "markdown",
   "source": [
    "VERSION 2 IMPORTANCE"
   ],
   "metadata": {
    "collapsed": false
   },
   "id": "3f4bd6096d094d44"
  },
  {
   "cell_type": "code",
   "execution_count": null,
   "outputs": [],
   "source": [
    "import numpy as np\n",
    "import pandas as pd\n",
    "import scipy.stats as st\n",
    "\n",
    "# Load data\n",
    "data = pd.read_csv('data/data.csv')\n",
    "r = np.array([.295, .49, .41, .415, .338, .64, .403, .476])\n",
    "data['sec_loading'], data['t'] = r[data['sector'].values], st.norm.ppf(data.p)\n",
    "\n",
    "# Importance Sampling Parameters\n",
    "shift = 2.0  # Shift parameter to bias the sampling distribution towards the tail\n",
    "\n",
    "# Simulate factors and initialize\n",
    "factors = np.random.normal(shift, 1, (100_000, len(r) + len(data)))  # Shifted Gaussian\n",
    "sample, weights = [], []\n",
    "\n",
    "for obs in factors:\n",
    "    m_factor, sec_factor, res_factor = obs[0], obs[:len(r)][data.sector.values], obs[len(r):]\n",
    "\n",
    "    # Adjusted loss indicator threshold\n",
    "    ind = np.sqrt(r[0]) * m_factor + np.sqrt(data.sec_loading - r[0]) * sec_factor \\\n",
    "          + np.sqrt(1 - data.sec_loading) * res_factor < (data.t - shift)\n",
    "\n",
    "    # Compute losses\n",
    "    loss = np.zeros((len(data),))\n",
    "    loss[ind] = data[ind].m + data[ind].d * np.random.standard_t(3, size=sum(ind))\n",
    "\n",
    "    # Compute weight for importance sampling correction\n",
    "    weight = np.exp(-shift * obs[0] + 0.5 * shift**2)\n",
    "    weights.append(weight)\n",
    "    sample.append(sum(loss) * weight)  # Adjusted loss weighted\n",
    "\n",
    "# Calculate VaR using weighted losses\n",
    "weighted_losses = -np.array(sample)\n",
    "sorted_losses = np.sort(weighted_losses)\n",
    "VaR = sorted_losses[int(0.999 * len(sorted_losses))]  # Empirical 99.9% quantile\n",
    "print(f\"VaR with Importance Sampling: {VaR}\")"
   ],
   "metadata": {
    "collapsed": false
   },
   "id": "985a4191f5213754"
  },
  {
   "cell_type": "markdown",
   "source": [
    "HEREZJA SOBOL"
   ],
   "metadata": {
    "collapsed": false
   },
   "id": "bd987f66276e2d5c"
  },
  {
   "cell_type": "code",
   "source": [
    "num_dimensions = len(r) + len(data)"
   ],
   "metadata": {
    "collapsed": false,
    "ExecuteTime": {
     "end_time": "2024-12-13T22:30:48.249318Z",
     "start_time": "2024-12-13T22:30:48.247075Z"
    }
   },
   "id": "7bee415604064a6d",
   "outputs": [],
   "execution_count": 61
  },
  {
   "cell_type": "code",
   "source": [
    "from scipy.stats import qmc\n",
    "sobol_sampler = qmc.Sobol(d=num_dimensions, scramble=True)\n",
    "quasi_random_samples = sobol_sampler.random_base2(m=int(np.log2(num_obvs)))"
   ],
   "metadata": {
    "collapsed": false,
    "ExecuteTime": {
     "end_time": "2024-12-13T22:30:49.035863Z",
     "start_time": "2024-12-13T22:30:48.250834Z"
    }
   },
   "id": "51a9e95f7113d5b4",
   "outputs": [],
   "execution_count": 62
  },
  {
   "cell_type": "code",
   "source": [
    "factors = st.norm.ppf(quasi_random_samples)"
   ],
   "metadata": {
    "collapsed": false,
    "ExecuteTime": {
     "end_time": "2024-12-13T22:30:51.715230Z",
     "start_time": "2024-12-13T22:30:49.037905Z"
    }
   },
   "id": "a0d99b290f209667",
   "outputs": [],
   "execution_count": 63
  },
  {
   "cell_type": "code",
   "source": [
    "from scipy.stats import t\n",
    "sample = []\n",
    "sobol_student= qmc.Sobol(d=1, scramble=True)\n",
    "for obs in factors:\n",
    "    # m_factor, sec_factor, res_factor = obs[0], obs[1:1 + len(r)][data.sector.values], obs[len(r):]\n",
    "    m_factor, sec_factor, res_factor = obs[0], obs[:len(r)][data.sector.values], obs[len(r):]\n",
    "\n",
    "    ind = (\n",
    "                  r[0]**0.5 * m_factor\n",
    "                  + (data.sec_loading - r[0])**0.5 * sec_factor\n",
    "                  + (1 - data.sec_loading)**0.5 * res_factor\n",
    "          ) < data.t\n",
    "    loss = np.zeros((len(data),))\n",
    "    stt=sobol_student.random(n=sum(ind)).flatten()\n",
    "    stud = st.t.ppf(stt,3)\n",
    "    loss[ind] = data[ind].m + data[ind].d * stud\n",
    "    sample.append(sum(loss))"
   ],
   "metadata": {
    "collapsed": false,
    "ExecuteTime": {
     "end_time": "2024-12-13T22:30:59.148940Z",
     "start_time": "2024-12-13T22:30:51.718610Z"
    }
   },
   "id": "4be080f5d4e926f8",
   "outputs": [],
   "execution_count": 64
  },
  {
   "cell_type": "code",
   "source": [
    "VaR = sorted([-s for s in sample])[int(0.01 * num_obvs)]"
   ],
   "metadata": {
    "collapsed": false,
    "ExecuteTime": {
     "end_time": "2024-12-13T22:30:59.153158Z",
     "start_time": "2024-12-13T22:30:59.149478Z"
    }
   },
   "id": "31a920bd22785f88",
   "outputs": [],
   "execution_count": 65
  },
  {
   "cell_type": "code",
   "source": [
    "VaR"
   ],
   "metadata": {
    "collapsed": false,
    "ExecuteTime": {
     "end_time": "2024-12-13T22:30:59.156129Z",
     "start_time": "2024-12-13T22:30:59.153650Z"
    }
   },
   "id": "adf9287362131e2b",
   "outputs": [
    {
     "data": {
      "text/plain": [
       "-5396.849243209308"
      ]
     },
     "execution_count": 66,
     "metadata": {},
     "output_type": "execute_result"
    }
   ],
   "execution_count": 66
  },
  {
   "cell_type": "markdown",
   "source": [
    "PARALLEL"
   ],
   "metadata": {
    "collapsed": false
   },
   "id": "b4485070c0eee1cd"
  },
  {
   "cell_type": "code",
   "source": [
    "import numpy as np, pandas as pd, scipy.stats as st\n",
    "\n",
    "data = pd.read_csv('data.csv')\n",
    "num_obvs = 1000000\n",
    "\n",
    "r = np.array([.295, .49, .41, .415, .338, .64, .403, .476])\n",
    "\n",
    "data['sec_loading'], data['t'] = r[data['sector'].values], st.norm.ppf(data.p)\n",
    "\n",
    "num_dimensions = len(r) + len(data)\n",
    "from scipy.stats import qmc\n",
    "\n",
    "sobol_sampler = qmc.Sobol(d=num_dimensions, scramble=True)\n",
    "quasi_random_samples = sobol_sampler.random_base2(m=int(np.log2(num_obvs)))\n",
    "\n",
    "factors = st.norm.ppf(quasi_random_samples)\n",
    "\n",
    "def process_obs(obs):\n",
    "    # m_factor, sec_factor, res_factor = obs[0], obs[1:1 + len(r)][data.sector.values], obs[len(r):]\n",
    "    m_factor, sec_factor, res_factor = obs[0], obs[:len(r)][data.sector.values], obs[len(r):]\n",
    "\n",
    "    ind = (\n",
    "                  r[0] ** 0.5 * m_factor\n",
    "                  + (data.sec_loading - r[0]) ** 0.5 * sec_factor\n",
    "                  + (1 - data.sec_loading) ** 0.5 * res_factor\n",
    "          ) < data.t\n",
    "    loss = np.zeros((len(data),))\n",
    "    stt = sobol_student.random(n=sum(ind)).flatten()\n",
    "    stud = st.t.ppf(stt, 3)\n",
    "    loss[ind] = data[ind].m + data[ind].d * stud\n",
    "    return sum(loss)"
   ],
   "metadata": {
    "collapsed": false
   },
   "id": "f72cfa45123eaf00",
   "outputs": [],
   "execution_count": 0
  },
  {
   "cell_type": "code",
   "execution_count": 66,
   "outputs": [],
   "source": [
    "from joblib import Parallel, delayed\n",
    "from scipy.stats import t\n",
    "\n",
    "sobol_student = qmc.Sobol(d=1, scramble=True)\n",
    "sample_parallel = Parallel(n_jobs=-1)(delayed(process_obs)(obs) for obs in factors)\n",
    "VaR = sorted([-s for s in sample_parallel])[int(0.01 * num_obvs)]"
   ],
   "metadata": {
    "collapsed": false,
    "ExecuteTime": {
     "start_time": "2024-12-13T22:30:59.156664Z"
    }
   },
   "id": "39e509cc75c09eaa"
  },
  {
   "cell_type": "markdown",
   "source": [
    "ANTITHETIC "
   ],
   "metadata": {
    "collapsed": false
   },
   "id": "5bdf011897ff2883"
  },
  {
   "metadata": {
    "ExecuteTime": {
     "end_time": "2024-12-13T22:30:59.159824Z",
     "start_time": "2024-12-13T22:30:59.158572Z"
    }
   },
   "cell_type": "code",
   "source": [
    "factors = np.random.normal(0, 1, (num_obvs // 2, len(r) + len(data)))\n",
    "antithetic_factors = -factors\n",
    "\n",
    "factors = np.vstack([factors, antithetic_factors])\n",
    "sample_antithetic = []\n",
    "\n",
    "for obs in factors:\n",
    "    m_factor = obs[0] \n",
    "    sec_factor = obs[:len(r)][data.sector.values] \n",
    "    res_factor = obs[len(r):]  \n",
    "\n",
    "    ind = (\n",
    "                  r[0]**0.5 * m_factor\n",
    "                  + (data.sec_loading - r[0])**0.5 * sec_factor\n",
    "                  + (1 - data.sec_loading)**0.5 * res_factor\n",
    "          ) < data.t\n",
    "    loss = np.zeros((len(data),))\n",
    "    loss[ind] = data[ind].m + data[ind].d * t.rvs(df=3,size=sum(ind))\n",
    "    sample.append(sum(loss))\n",
    "    \n",
    "    sample_antithetic.append(sum(loss))\n",
    "    \n",
    "    Var_antithetic = sorted([-s for s in sample])[100]"
   ],
   "id": "35485171e6f3b46e",
   "outputs": [],
   "execution_count": 66
  },
  {
   "metadata": {
    "ExecuteTime": {
     "end_time": "2024-12-13T22:31:59.259683Z",
     "start_time": "2024-12-13T22:31:59.257540Z"
    }
   },
   "cell_type": "code",
   "source": "Var_antithetic",
   "id": "2b0756734cabd965",
   "outputs": [
    {
     "data": {
      "text/plain": [
       "-10697.589807499246"
      ]
     },
     "execution_count": 68,
     "metadata": {},
     "output_type": "execute_result"
    }
   ],
   "execution_count": 68
  },
  {
   "metadata": {
    "ExecuteTime": {
     "end_time": "2024-12-14T01:58:00.943303Z",
     "start_time": "2024-12-14T01:58:00.922798Z"
    }
   },
   "cell_type": "code",
   "source": "",
   "id": "14a55da64f0dd390",
   "outputs": [],
   "execution_count": 129
  },
  {
   "metadata": {
    "ExecuteTime": {
     "end_time": "2024-12-14T01:59:58.455322Z",
     "start_time": "2024-12-14T01:59:58.417025Z"
    }
   },
   "cell_type": "code",
   "source": "",
   "id": "8519a1f7a9a05062",
   "outputs": [
    {
     "ename": "TypeError",
     "evalue": "'int' object is not iterable",
     "output_type": "error",
     "traceback": [
      "\u001B[0;31m---------------------------------------------------------------------------\u001B[0m",
      "\u001B[0;31mTypeError\u001B[0m                                 Traceback (most recent call last)",
      "Cell \u001B[0;32mIn[131], line 15\u001B[0m\n\u001B[1;32m     12\u001B[0m     \u001B[38;5;28;01mreturn\u001B[39;00m VaR\n\u001B[1;32m     14\u001B[0m num_sims \u001B[38;5;241m=\u001B[39m [\u001B[38;5;241m1000\u001B[39m, \u001B[38;5;241m5000\u001B[39m, \u001B[38;5;241m10000\u001B[39m, \u001B[38;5;241m20000\u001B[39m, \u001B[38;5;241m50000\u001B[39m]\n\u001B[0;32m---> 15\u001B[0m lhs_results \u001B[38;5;241m=\u001B[39m \u001B[43m[\u001B[49m\u001B[43mrun_lhs\u001B[49m\u001B[43m(\u001B[49m\u001B[43mdata\u001B[49m\u001B[43m,\u001B[49m\u001B[43m \u001B[49m\u001B[43mr\u001B[49m\u001B[43m,\u001B[49m\u001B[43m \u001B[49m\u001B[43mnum_obvs\u001B[49m\u001B[38;5;241;43m=\u001B[39;49m\u001B[43mn\u001B[49m\u001B[43m)\u001B[49m\u001B[43m \u001B[49m\u001B[38;5;28;43;01mfor\u001B[39;49;00m\u001B[43m \u001B[49m\u001B[43mn\u001B[49m\u001B[43m \u001B[49m\u001B[38;5;129;43;01min\u001B[39;49;00m\u001B[43m \u001B[49m\u001B[38;5;241;43m10000\u001B[39;49m\u001B[43m]\u001B[49m\n\u001B[1;32m     16\u001B[0m \u001B[38;5;28mprint\u001B[39m(lhs_results)\n",
      "\u001B[0;31mTypeError\u001B[0m: 'int' object is not iterable"
     ]
    }
   ],
   "execution_count": 131
  },
  {
   "metadata": {
    "ExecuteTime": {
     "end_time": "2024-12-14T02:00:01.499023Z",
     "start_time": "2024-12-14T02:00:01.494318Z"
    }
   },
   "cell_type": "code",
   "source": "VaR",
   "id": "95dba31ec79a899a",
   "outputs": [
    {
     "data": {
      "text/plain": [
       "-7326.077904306871"
      ]
     },
     "execution_count": 132,
     "metadata": {},
     "output_type": "execute_result"
    }
   ],
   "execution_count": 132
  },
  {
   "metadata": {},
   "cell_type": "markdown",
   "source": "LHS Latin Hypercube Sampling",
   "id": "d18e3f1c01df2cff"
  },
  {
   "metadata": {
    "ExecuteTime": {
     "end_time": "2024-12-14T02:07:05.622233Z",
     "start_time": "2024-12-14T02:05:22.748697Z"
    }
   },
   "cell_type": "code",
   "source": [
    "from scipy.stats import qmc, norm\n",
    "from joblib import Parallel, delayed\n",
    "import numpy as np\n",
    "import pandas as pd\n",
    "from scipy.stats import t\n",
    "\n",
    "# Function to process a single observation\n",
    "def process_obs1(obs, data, r):\n",
    "    m_factor = obs[0]\n",
    "    sec_factor = obs[:len(r)][data.sector.values]\n",
    "    res_factor = obs[len(r):]\n",
    "\n",
    "    ind = (\n",
    "        r[0]**0.5 * m_factor\n",
    "        + (data.sec_loading - r[0])**0.5 * sec_factor\n",
    "        + (1 - data.sec_loading)**0.5 * res_factor\n",
    "    ) < data.t\n",
    "\n",
    "    loss = np.zeros(len(data))\n",
    "    loss[ind] = data[ind].m + data[ind].d * t.rvs(df=3, size=sum(ind))\n",
    "    return sum(loss)\n",
    "\n",
    "# Generate LHS factors\n",
    "def generate_lhs_factors(num_obvs, num_dimensions):\n",
    "    # Create Latin Hypercube Sampler\n",
    "    lhs_sampler = qmc.LatinHypercube(d=num_dimensions)\n",
    "\n",
    "    # Generate LHS samples in [0, 1]\n",
    "    lhs_samples = lhs_sampler.random(n=num_obvs)\n",
    "\n",
    "    # Transform to standard normal distribution\n",
    "    lhs_factors = norm.ppf(lhs_samples)\n",
    "\n",
    "    return lhs_factors\n",
    "\n",
    "# Run LHS method\n",
    "def run_lhs(data, r, num_obvs=30_000):\n",
    "    num_dimensions = len(r) + len(data)  # Total risk factors\n",
    "    lhs_factors = generate_lhs_factors(num_obvs, num_dimensions)  # Generate LHS samples\n",
    "\n",
    "    # Parallelized loss computation\n",
    "    sample = Parallel(n_jobs=-1)(\n",
    "        delayed(process_obs1)(obs, data, r) for obs in lhs_factors\n",
    "    )\n",
    "\n",
    "    # Compute VaR (99.9% quantile)\n",
    "    VaR = sorted([-s for s in sample])[int(0.999 * num_obvs)]\n",
    "    return VaR\n",
    "\n",
    "# Simulation\n",
    "num_sims = [1000, 5000, 10000, 20000, 50000]\n",
    "lhs_results = [run_lhs(data, r, num_obvs=n) for n in num_sims]\n",
    "\n",
    "# Output results\n",
    "print(lhs_results)"
   ],
   "id": "1567cfbc6d4e3570",
   "outputs": [
    {
     "name": "stdout",
     "output_type": "stream",
     "text": [
      "[31613.29728161215, 26451.957284971082, 19919.65373115017, 23080.967888927073, 24043.78248218244]\n"
     ]
    }
   ],
   "execution_count": 133
  },
  {
   "metadata": {
    "ExecuteTime": {
     "end_time": "2024-12-14T02:15:38.406266Z",
     "start_time": "2024-12-14T02:15:38.323112Z"
    }
   },
   "cell_type": "code",
   "source": [
    "import matplotlib.pyplot as plt\n",
    "\n",
    "# Number of simulations and corresponding VaR results\n",
    "num_sims = [1000, 5000, 10000, 20000, 50000]\n",
    "\n",
    "# Plot\n",
    "plt.plot(num_sims, lhs_results, marker='o', label='LHS VaR')\n",
    "plt.title(\"Convergence of VaR with Latin Hypercube Sampling\")\n",
    "plt.xlabel(\"Number of Simulations\")\n",
    "plt.ylabel(\"VaR Estimate\")\n",
    "plt.grid(True)\n",
    "plt.legend()\n",
    "plt.show()"
   ],
   "id": "ff9f78027405cd6d",
   "outputs": [
    {
     "data": {
      "text/plain": [
       "<Figure size 640x480 with 1 Axes>"
      ],
      "image/png": "[encoded data removed]"
     },
     "metadata": {},
     "output_type": "display_data"
    }
   ],
   "execution_count": 136
  },
  {
   "metadata": {},
   "cell_type": "code",
   "outputs": [],
   "execution_count": null,
   "source": "",
   "id": "b2b474f96903f4d4"
  }
 ],
 "metadata": {
  "kernelspec": {
   "display_name": "Python 3",
   "language": "python",
   "name": "python3"
  },
  "language_info": {
   "codemirror_mode": {
    "name": "ipython",
    "version": 2
   },
   "file_extension": ".py",
   "mimetype": "text/x-python",
   "name": "python",
   "nbconvert_exporter": "python",
   "pygments_lexer": "ipython2",
   "version": "2.7.6"
  }
 },
 "nbformat": 4,
 "nbformat_minor": 5
}
