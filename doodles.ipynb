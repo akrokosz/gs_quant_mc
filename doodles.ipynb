{
 "cells": [
  {
   "cell_type": "code",
   "execution_count": null,
   "id": "initial_id",
   "metadata": {
    "collapsed": true
   },
   "outputs": [],
   "source": [
    "# 1) quasi random numbers\n",
    "# 2) importance sampling: sample from the region of the tail (look for extremes) that is most important, this will reduce variance "
   ]
  },
  {
   "cell_type": "markdown",
   "source": [
    "BASELINE"
   ],
   "metadata": {
    "collapsed": false
   },
   "id": "70602e955cd0fc57"
  },
  {
   "cell_type": "code",
   "execution_count": 2,
   "outputs": [],
   "source": [
    "import numpy as np, pandas as pd, scipy.stats as st"
   ],
   "metadata": {
    "collapsed": false,
    "ExecuteTime": {
     "end_time": "2024-12-13T19:15:29.555566Z",
     "start_time": "2024-12-13T19:15:28.381043Z"
    }
   },
   "id": "7676e8236601dd5e"
  },
  {
   "cell_type": "code",
   "execution_count": 9,
   "outputs": [],
   "source": [
    "data = pd.read_csv('data.csv')\n",
    "num_obvs = 100000\n",
    "# risks per sector\n",
    "r = np.array([.295, .49, .41, .415, .338, .64, .403, .476])\n",
    "#sec_loading maps sector to its risk, t is the threshold for defaults\n",
    "data['sec_loading'], data['t'] = r[data['sector'].values], st.norm.ppf(data.p)\n",
    "# 100k monte carlo simulations and len(r)+len(data) risk factors per one sample\n",
    "factors, sample = np.random.normal(0,1, (num_obvs, len(r)+len(data))), []"
   ],
   "metadata": {
    "collapsed": false,
    "ExecuteTime": {
     "end_time": "2024-12-13T19:17:47.290997Z",
     "start_time": "2024-12-13T19:17:36.944338Z"
    }
   },
   "id": "a283bacc6b9730e0"
  },
  {
   "cell_type": "code",
   "execution_count": 10,
   "outputs": [],
   "source": [
    "for obs in factors:\n",
    "    m_factor, sec_factor, res_factor = obs[0], obs[:len(r)][data.sector.values], obs[len(r):]\n",
    "    ind = r[0]**.5 * m_factor + (data.sec_loading-r[0])**.5 * sec_factor + (1-\n",
    "                                                                        data.sec_loading)**.5 * res_factor < data.t\n",
    "    loss = np.zeros((len(data),))\n",
    "    loss[ind] = data[ind].m + data[ind].d * np.random.standard_t(3, size=sum(ind\n",
    "                                                                         ))\n",
    "    sample.append(sum(loss))"
   ],
   "metadata": {
    "collapsed": false,
    "ExecuteTime": {
     "end_time": "2024-12-13T19:19:26.249704Z",
     "start_time": "2024-12-13T19:17:47.299981Z"
    }
   },
   "id": "fff02203cb4f61ad"
  },
  {
   "cell_type": "code",
   "execution_count": 11,
   "outputs": [],
   "source": [
    "# extracts the 1% quantile from the sorted list of 100k obsercations\n",
    "VaR = sorted([-s for s in sample])[100]"
   ],
   "metadata": {
    "collapsed": false,
    "ExecuteTime": {
     "end_time": "2024-12-13T19:19:26.299665Z",
     "start_time": "2024-12-13T19:19:26.294244Z"
    }
   },
   "id": "d70f892eb407ee96"
  },
  {
   "cell_type": "code",
   "execution_count": 12,
   "outputs": [
    {
     "data": {
      "text/plain": "-17893.627428034855"
     },
     "execution_count": 12,
     "metadata": {},
     "output_type": "execute_result"
    }
   ],
   "source": [
    "VaR "
   ],
   "metadata": {
    "collapsed": false,
    "ExecuteTime": {
     "end_time": "2024-12-13T19:19:26.563487Z",
     "start_time": "2024-12-13T19:19:26.295914Z"
    }
   },
   "id": "89fd72e25ad9e811"
  },
  {
   "cell_type": "code",
   "execution_count": 13,
   "outputs": [
    {
     "data": {
      "text/plain": "      sector           m          d         p  sec_loading         t\n0          5   -7.417203   0.631652  0.015994         0.64 -2.144549\n1          2 -527.362999  49.292996  0.005138         0.41 -2.566434\n2          2 -439.116574  42.366041  0.005386         0.41 -2.550002\n3          5  112.839687  13.193781  0.016846         0.64 -2.123749\n4          5   93.661362  14.562288  0.017555         0.64 -2.107093\n...      ...         ...        ...       ...          ...       ...\n5653       5   81.071783   3.121474  0.014192         0.64 -2.191924\n5654       5  -29.621411   4.334980  0.015017         0.64 -2.169647\n5655       5   71.006290   8.699961  0.014092         0.64 -2.194725\n5656       5  102.410688  14.274780  0.017539         0.64 -2.107466\n5657       1  -45.683545  12.922743  0.004832         0.49 -2.587599\n\n[5658 rows x 6 columns]",
      "text/html": "<div>\n<style scoped>\n    .dataframe tbody tr th:only-of-type {\n        vertical-align: middle;\n    }\n\n    .dataframe tbody tr th {\n        vertical-align: top;\n    }\n\n    .dataframe thead th {\n        text-align: right;\n    }\n</style>\n<table border=\"1\" class=\"dataframe\">\n  <thead>\n    <tr style=\"text-align: right;\">\n      <th></th>\n      <th>sector</th>\n      <th>m</th>\n      <th>d</th>\n      <th>p</th>\n      <th>sec_loading</th>\n      <th>t</th>\n    </tr>\n  </thead>\n  <tbody>\n    <tr>\n      <th>0</th>\n      <td>5</td>\n      <td>-7.417203</td>\n      <td>0.631652</td>\n      <td>0.015994</td>\n      <td>0.64</td>\n      <td>-2.144549</td>\n    </tr>\n    <tr>\n      <th>1</th>\n      <td>2</td>\n      <td>-527.362999</td>\n      <td>49.292996</td>\n      <td>0.005138</td>\n      <td>0.41</td>\n      <td>-2.566434</td>\n    </tr>\n    <tr>\n      <th>2</th>\n      <td>2</td>\n      <td>-439.116574</td>\n      <td>42.366041</td>\n      <td>0.005386</td>\n      <td>0.41</td>\n      <td>-2.550002</td>\n    </tr>\n    <tr>\n      <th>3</th>\n      <td>5</td>\n      <td>112.839687</td>\n      <td>13.193781</td>\n      <td>0.016846</td>\n      <td>0.64</td>\n      <td>-2.123749</td>\n    </tr>\n    <tr>\n      <th>4</th>\n      <td>5</td>\n      <td>93.661362</td>\n      <td>14.562288</td>\n      <td>0.017555</td>\n      <td>0.64</td>\n      <td>-2.107093</td>\n    </tr>\n    <tr>\n      <th>...</th>\n      <td>...</td>\n      <td>...</td>\n      <td>...</td>\n      <td>...</td>\n      <td>...</td>\n      <td>...</td>\n    </tr>\n    <tr>\n      <th>5653</th>\n      <td>5</td>\n      <td>81.071783</td>\n      <td>3.121474</td>\n      <td>0.014192</td>\n      <td>0.64</td>\n      <td>-2.191924</td>\n    </tr>\n    <tr>\n      <th>5654</th>\n      <td>5</td>\n      <td>-29.621411</td>\n      <td>4.334980</td>\n      <td>0.015017</td>\n      <td>0.64</td>\n      <td>-2.169647</td>\n    </tr>\n    <tr>\n      <th>5655</th>\n      <td>5</td>\n      <td>71.006290</td>\n      <td>8.699961</td>\n      <td>0.014092</td>\n      <td>0.64</td>\n      <td>-2.194725</td>\n    </tr>\n    <tr>\n      <th>5656</th>\n      <td>5</td>\n      <td>102.410688</td>\n      <td>14.274780</td>\n      <td>0.017539</td>\n      <td>0.64</td>\n      <td>-2.107466</td>\n    </tr>\n    <tr>\n      <th>5657</th>\n      <td>1</td>\n      <td>-45.683545</td>\n      <td>12.922743</td>\n      <td>0.004832</td>\n      <td>0.49</td>\n      <td>-2.587599</td>\n    </tr>\n  </tbody>\n</table>\n<p>5658 rows × 6 columns</p>\n</div>"
     },
     "execution_count": 13,
     "metadata": {},
     "output_type": "execute_result"
    }
   ],
   "source": [
    "data"
   ],
   "metadata": {
    "collapsed": false,
    "ExecuteTime": {
     "end_time": "2024-12-13T19:19:26.632522Z",
     "start_time": "2024-12-13T19:19:26.311321Z"
    }
   },
   "id": "24bb71500e8b6e7b"
  },
  {
   "cell_type": "code",
   "execution_count": 14,
   "outputs": [
    {
     "data": {
      "text/plain": "<Figure size 640x480 with 1 Axes>",
      "image/png": "[encoded data removed]"
     },
     "metadata": {},
     "output_type": "display_data"
    }
   ],
   "source": [
    "import matplotlib.pyplot as plt\n",
    "\n",
    "plt.hist(sample, bins=50, density=True)\n",
    "plt.title(\"Preliminary Loss Distribution\")\n",
    "plt.xlabel(\"Total Loss\")\n",
    "plt.ylabel(\"Frequency\")\n",
    "plt.show()"
   ],
   "metadata": {
    "collapsed": false,
    "ExecuteTime": {
     "end_time": "2024-12-13T19:19:28.437582Z",
     "start_time": "2024-12-13T19:19:26.318959Z"
    }
   },
   "id": "9e2822eb1cf30de3"
  },
  {
   "cell_type": "markdown",
   "source": [
    "quasi random numbers"
   ],
   "metadata": {
    "collapsed": false
   },
   "id": "bd987f66276e2d5c"
  },
  {
   "cell_type": "code",
   "execution_count": 15,
   "outputs": [],
   "source": [
    "importance_sampling_shift = 1.5\n",
    "num_dimensions = len(r) + len(data)"
   ],
   "metadata": {
    "collapsed": false,
    "ExecuteTime": {
     "end_time": "2024-12-13T19:19:28.453607Z",
     "start_time": "2024-12-13T19:19:27.719974Z"
    }
   },
   "id": "bb5146aa087dd4ba"
  },
  {
   "cell_type": "code",
   "execution_count": null,
   "outputs": [],
   "source": [
    "from scipy.stats import qmc\n",
    "sobol_sampler = qmc.Sobol(d=num_dimensions, scramble=True)\n",
    "quasi_random_samples = sobol_sampler.random_base2(m=int(np.log2(num_obvs)))"
   ],
   "metadata": {
    "collapsed": false
   },
   "id": "51a9e95f7113d5b4"
  }
 ],
 "metadata": {
  "kernelspec": {
   "display_name": "Python 3",
   "language": "python",
   "name": "python3"
  },
  "language_info": {
   "codemirror_mode": {
    "name": "ipython",
    "version": 2
   },
   "file_extension": ".py",
   "mimetype": "text/x-python",
   "name": "python",
   "nbconvert_exporter": "python",
   "pygments_lexer": "ipython2",
   "version": "2.7.6"
  }
 },
 "nbformat": 4,
 "nbformat_minor": 5
}
