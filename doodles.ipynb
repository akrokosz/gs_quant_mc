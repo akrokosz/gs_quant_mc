{
 "cells": [
  {
   "cell_type": "code",
   "execution_count": null,
   "id": "initial_id",
   "metadata": {
    "collapsed": true
   },
   "outputs": [],
   "source": [
    "# 1) quasi random numbers\n",
    "# 2) importance sampling: sample from the region of the tail (look for extremes) that is most important, this will reduce variance "
   ]
  },
  {
   "cell_type": "markdown",
   "source": [
    "BASELINE"
   ],
   "metadata": {
    "collapsed": false
   },
   "id": "70602e955cd0fc57"
  },
  {
   "cell_type": "code",
   "execution_count": 2,
   "outputs": [],
   "source": [
    "import numpy as np, pandas as pd, scipy.stats as st"
   ],
   "metadata": {
    "collapsed": false,
    "ExecuteTime": {
     "end_time": "2024-12-13T18:45:38.416901Z",
     "start_time": "2024-12-13T18:45:38.410755Z"
    }
   },
   "id": "7676e8236601dd5e"
  },
  {
   "cell_type": "code",
   "execution_count": 3,
   "outputs": [],
   "source": [
    "data = pd.read_csv('data.csv')\n",
    "r = np.array([.295, .49, .41, .415, .338, .64, .403, .476])\n",
    "data['sec_loading'], data['t'] = r[data['sector'].values], st.norm.ppf(data.p)\n",
    "factors, sample = np.random.normal(0,1, (100_000, len(r)+len(data))), []"
   ],
   "metadata": {
    "collapsed": false,
    "ExecuteTime": {
     "end_time": "2024-12-13T18:45:49.149557Z",
     "start_time": "2024-12-13T18:45:39.362112Z"
    }
   },
   "id": "a283bacc6b9730e0"
  },
  {
   "cell_type": "code",
   "execution_count": 4,
   "outputs": [
    {
     "data": {
      "text/plain": "      sector           m          d         p  sec_loading         t\n0          5   -7.417203   0.631652  0.015994         0.64 -2.144549\n1          2 -527.362999  49.292996  0.005138         0.41 -2.566434\n2          2 -439.116574  42.366041  0.005386         0.41 -2.550002\n3          5  112.839687  13.193781  0.016846         0.64 -2.123749\n4          5   93.661362  14.562288  0.017555         0.64 -2.107093\n...      ...         ...        ...       ...          ...       ...\n5653       5   81.071783   3.121474  0.014192         0.64 -2.191924\n5654       5  -29.621411   4.334980  0.015017         0.64 -2.169647\n5655       5   71.006290   8.699961  0.014092         0.64 -2.194725\n5656       5  102.410688  14.274780  0.017539         0.64 -2.107466\n5657       1  -45.683545  12.922743  0.004832         0.49 -2.587599\n\n[5658 rows x 6 columns]",
      "text/html": "<div>\n<style scoped>\n    .dataframe tbody tr th:only-of-type {\n        vertical-align: middle;\n    }\n\n    .dataframe tbody tr th {\n        vertical-align: top;\n    }\n\n    .dataframe thead th {\n        text-align: right;\n    }\n</style>\n<table border=\"1\" class=\"dataframe\">\n  <thead>\n    <tr style=\"text-align: right;\">\n      <th></th>\n      <th>sector</th>\n      <th>m</th>\n      <th>d</th>\n      <th>p</th>\n      <th>sec_loading</th>\n      <th>t</th>\n    </tr>\n  </thead>\n  <tbody>\n    <tr>\n      <th>0</th>\n      <td>5</td>\n      <td>-7.417203</td>\n      <td>0.631652</td>\n      <td>0.015994</td>\n      <td>0.64</td>\n      <td>-2.144549</td>\n    </tr>\n    <tr>\n      <th>1</th>\n      <td>2</td>\n      <td>-527.362999</td>\n      <td>49.292996</td>\n      <td>0.005138</td>\n      <td>0.41</td>\n      <td>-2.566434</td>\n    </tr>\n    <tr>\n      <th>2</th>\n      <td>2</td>\n      <td>-439.116574</td>\n      <td>42.366041</td>\n      <td>0.005386</td>\n      <td>0.41</td>\n      <td>-2.550002</td>\n    </tr>\n    <tr>\n      <th>3</th>\n      <td>5</td>\n      <td>112.839687</td>\n      <td>13.193781</td>\n      <td>0.016846</td>\n      <td>0.64</td>\n      <td>-2.123749</td>\n    </tr>\n    <tr>\n      <th>4</th>\n      <td>5</td>\n      <td>93.661362</td>\n      <td>14.562288</td>\n      <td>0.017555</td>\n      <td>0.64</td>\n      <td>-2.107093</td>\n    </tr>\n    <tr>\n      <th>...</th>\n      <td>...</td>\n      <td>...</td>\n      <td>...</td>\n      <td>...</td>\n      <td>...</td>\n      <td>...</td>\n    </tr>\n    <tr>\n      <th>5653</th>\n      <td>5</td>\n      <td>81.071783</td>\n      <td>3.121474</td>\n      <td>0.014192</td>\n      <td>0.64</td>\n      <td>-2.191924</td>\n    </tr>\n    <tr>\n      <th>5654</th>\n      <td>5</td>\n      <td>-29.621411</td>\n      <td>4.334980</td>\n      <td>0.015017</td>\n      <td>0.64</td>\n      <td>-2.169647</td>\n    </tr>\n    <tr>\n      <th>5655</th>\n      <td>5</td>\n      <td>71.006290</td>\n      <td>8.699961</td>\n      <td>0.014092</td>\n      <td>0.64</td>\n      <td>-2.194725</td>\n    </tr>\n    <tr>\n      <th>5656</th>\n      <td>5</td>\n      <td>102.410688</td>\n      <td>14.274780</td>\n      <td>0.017539</td>\n      <td>0.64</td>\n      <td>-2.107466</td>\n    </tr>\n    <tr>\n      <th>5657</th>\n      <td>1</td>\n      <td>-45.683545</td>\n      <td>12.922743</td>\n      <td>0.004832</td>\n      <td>0.49</td>\n      <td>-2.587599</td>\n    </tr>\n  </tbody>\n</table>\n<p>5658 rows × 6 columns</p>\n</div>"
     },
     "execution_count": 4,
     "metadata": {},
     "output_type": "execute_result"
    }
   ],
   "source": [
    "data"
   ],
   "metadata": {
    "collapsed": false,
    "ExecuteTime": {
     "end_time": "2024-12-13T18:46:05.337615Z",
     "start_time": "2024-12-13T18:46:05.213491Z"
    }
   },
   "id": "d73cdd8b3e0b635c"
  },
  {
   "cell_type": "code",
   "execution_count": 5,
   "outputs": [],
   "source": [
    "for obs in factors:\n",
    "    m_factor, sec_factor, res_factor = obs[0], obs[:len(r)][data.sector.values], obs[len(r):]\n",
    "    ind = r[0]**.5 * m_factor + (data.sec_loading-r[0])**.5 * sec_factor + (1-\n",
    "                                                                        data.sec_loading)**.5 * res_factor < data.t\n",
    "    loss = np.zeros((len(data),))\n",
    "    loss[ind] = data[ind].m + data[ind].d * np.random.standard_t(3, size=sum(ind\n",
    "                                                                         ))\n",
    "    sample.append(sum(loss))"
   ],
   "metadata": {
    "collapsed": false,
    "ExecuteTime": {
     "end_time": "2024-12-13T18:50:17.538031Z",
     "start_time": "2024-12-13T18:48:33.356410Z"
    }
   },
   "id": "fff02203cb4f61ad"
  },
  {
   "cell_type": "code",
   "execution_count": 6,
   "outputs": [],
   "source": [
    "VaR = sorted([-s for s in sample])[100]"
   ],
   "metadata": {
    "collapsed": false,
    "ExecuteTime": {
     "end_time": "2024-12-13T18:53:41.996300Z",
     "start_time": "2024-12-13T18:53:41.985211Z"
    }
   },
   "id": "d70f892eb407ee96"
  },
  {
   "cell_type": "code",
   "execution_count": 7,
   "outputs": [
    {
     "data": {
      "text/plain": "-17095.554319596158"
     },
     "execution_count": 7,
     "metadata": {},
     "output_type": "execute_result"
    }
   ],
   "source": [
    "VaR "
   ],
   "metadata": {
    "collapsed": false,
    "ExecuteTime": {
     "end_time": "2024-12-13T18:53:51.740701Z",
     "start_time": "2024-12-13T18:53:51.663037Z"
    }
   },
   "id": "89fd72e25ad9e811"
  },
  {
   "cell_type": "code",
   "execution_count": null,
   "outputs": [],
   "source": [],
   "metadata": {
    "collapsed": false
   },
   "id": "9d0c1152fdd8abae"
  }
 ],
 "metadata": {
  "kernelspec": {
   "display_name": "Python 3",
   "language": "python",
   "name": "python3"
  },
  "language_info": {
   "codemirror_mode": {
    "name": "ipython",
    "version": 2
   },
   "file_extension": ".py",
   "mimetype": "text/x-python",
   "name": "python",
   "nbconvert_exporter": "python",
   "pygments_lexer": "ipython2",
   "version": "2.7.6"
  }
 },
 "nbformat": 4,
 "nbformat_minor": 5
}
