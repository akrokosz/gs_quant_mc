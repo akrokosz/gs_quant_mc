{
 "cells": [
  {
   "cell_type": "code",
   "execution_count": null,
   "id": "initial_id",
   "metadata": {
    "collapsed": true
   },
   "outputs": [],
   "source": [
    "# 1) quasi random numbers\n",
    "# 2) importance sampling: sample from the region of the tail (look for extremes) that is most important, this will reduce variance "
   ]
  },
  {
   "cell_type": "markdown",
   "source": [
    "BASELINE"
   ],
   "metadata": {
    "collapsed": false
   },
   "id": "acc0b3779fd7bb2c"
  },
  {
   "cell_type": "code",
   "outputs": [],
   "source": [
    "import numpy as np, pandas as pd, scipy.stats as st"
   ],
   "metadata": {
    "collapsed": false
   },
   "id": "1d42ec27d03ddfda"
  },
  {
   "cell_type": "code",
   "outputs": [],
   "source": [
    "data = pd.read_csv('data.csv')\n",
    "r = np.array([.295, .49, .41, .415, .338, .64, .403, .476])\n",
    "data['sec_loading'], data['t'] = r[data['sector'].values], st.norm.ppf(data.p)\n",
    "factors, sample = np.random.normal(0,1, (100_000, len(r)+len(data))), []\n",
    "\n",
    "for obs in factors:\n",
    "    m_factor, sec_factor, res_factor = obs[0], obs[:len(r)][data.sector.values], obs[len(r):]\n",
    "    ind = r[0]**.5 * m_factor + (data.sec_loading-r[0])**.5 * sec_factor + (1-\n",
    "                                                                        data.sec_loading)**.5 * res_factor < data.t\n",
    "    loss = np.zeros((len(data),))\n",
    "    loss[ind] = data[ind].m + data[ind].d * np.random.standard_t(3, size=sum(ind\n",
    "                                                                         ))\n",
    "    sample.append(sum(loss))\n",
    "    "
   ],
   "metadata": {
    "collapsed": false
   },
   "id": "a67866aade1d5991"
  },
  {
   "cell_type": "code",
   "outputs": [],
   "source": [
    "VaR = sorted(-sample)[100]"
   ],
   "metadata": {
    "collapsed": false
   },
   "id": "f8750f63e045d9fb"
  }
 ],
 "metadata": {
  "kernelspec": {
   "display_name": "Python 3",
   "language": "python",
   "name": "python3"
  },
  "language_info": {
   "codemirror_mode": {
    "name": "ipython",
    "version": 2
   },
   "file_extension": ".py",
   "mimetype": "text/x-python",
   "name": "python",
   "nbconvert_exporter": "python",
   "pygments_lexer": "ipython2",
   "version": "2.7.6"
  }
 },
 "nbformat": 4,
 "nbformat_minor": 5
}
