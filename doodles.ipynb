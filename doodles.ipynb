{
 "cells": [
  {
   "cell_type": "code",
   "id": "initial_id",
   "metadata": {
    "collapsed": true,
    "ExecuteTime": {
     "end_time": "2024-12-13T22:30:34.430068Z",
     "start_time": "2024-12-13T22:30:34.425314Z"
    }
   },
   "source": [
    "# 1) quasi random numbers\n",
    "# 2) importance sampling: sample from the region of the tail (look for extremes) that is most important, this will reduce variance "
   ],
   "outputs": [],
   "execution_count": 53
  },
  {
   "cell_type": "markdown",
   "source": [
    "BASELINE"
   ],
   "metadata": {
    "collapsed": false
   },
   "id": "70602e955cd0fc57"
  },
  {
   "cell_type": "code",
<<<<<<< HEAD
=======
   "execution_count": 7,
   "outputs": [],
>>>>>>> 9db2950348eb6a23b9c9a932ef69195673bae30d
   "source": [
    "import numpy as np, pandas as pd, scipy.stats as st"
   ],
   "metadata": {
    "collapsed": false,
    "ExecuteTime": {
<<<<<<< HEAD
     "end_time": "2024-12-13T22:30:34.486397Z",
     "start_time": "2024-12-13T22:30:34.483376Z"
=======
     "end_time": "2024-12-13T22:22:44.350334300Z",
     "start_time": "2024-12-13T22:22:44.335785200Z"
>>>>>>> 9db2950348eb6a23b9c9a932ef69195673bae30d
    }
   },
   "id": "7676e8236601dd5e",
   "outputs": [],
   "execution_count": 54
  },
  {
   "cell_type": "code",
<<<<<<< HEAD
=======
   "execution_count": 8,
   "outputs": [],
>>>>>>> 9db2950348eb6a23b9c9a932ef69195673bae30d
   "source": [
    "data = pd.read_csv('data.csv')\n",
    "num_obvs = 15000\n",
    "# risks per sector\n",
    "r = np.array([.295, .49, .41, .415, .338, .64, .403, .476])\n",
    "#sec_loading maps sector to its risk, t is the threshold for defaults\n",
    "data['sec_loading'], data['t'] = r[data['sector'].values], st.norm.ppf(data.p)\n",
    "# 100k monte carlo simulations and len(r)+len(data) risk factors per one sample\n",
    "factors, sample = np.random.normal(0,1, (num_obvs, len(r)+len(data))), []"
   ],
   "metadata": {
    "collapsed": false,
    "ExecuteTime": {
<<<<<<< HEAD
     "end_time": "2024-12-13T22:30:36.195752Z",
     "start_time": "2024-12-13T22:30:34.488577Z"
=======
     "end_time": "2024-12-13T22:22:48.788136Z",
     "start_time": "2024-12-13T22:22:44.514237400Z"
>>>>>>> 9db2950348eb6a23b9c9a932ef69195673bae30d
    }
   },
   "id": "a283bacc6b9730e0",
   "outputs": [],
   "execution_count": 55
  },
  {
   "cell_type": "code",
<<<<<<< HEAD
=======
   "outputs": [],
   "source": [
    "vars = []"
   ],
   "metadata": {
    "collapsed": false,
    "ExecuteTime": {
     "end_time": "2024-12-13T22:22:48.798008500Z",
     "start_time": "2024-12-13T22:22:48.791489600Z"
    }
   },
   "id": "3bd22c3c305b3127",
   "execution_count": 9
  },
  {
   "cell_type": "code",
   "execution_count": 10,
   "outputs": [],
>>>>>>> 9db2950348eb6a23b9c9a932ef69195673bae30d
   "source": [
    "for obs in factors:\n",
    "    m_factor, sec_factor, res_factor = obs[0], obs[:len(r)][data.sector.values], obs[len(r):]\n",
    "    ind = r[0]**.5 * m_factor + (data.sec_loading-r[0])**.5 * sec_factor + (1-\n",
    "                                                                            data.sec_loading)**.5 * res_factor < data.t\n",
    "    loss = np.zeros((len(data),))\n",
    "    loss[ind] = data[ind].m + data[ind].d * np.random.standard_t(3, size=sum(ind\n",
    "                                                                             ))\n",
    "    sample.append(sum(loss))\n",
    "    vars.append(np.var(loss))"
   ],
   "metadata": {
    "collapsed": false,
    "ExecuteTime": {
<<<<<<< HEAD
     "end_time": "2024-12-13T22:30:48.125626Z",
     "start_time": "2024-12-13T22:30:36.204382Z"
=======
     "end_time": "2024-12-13T22:23:49.341769800Z",
     "start_time": "2024-12-13T22:22:48.798008500Z"
>>>>>>> 9db2950348eb6a23b9c9a932ef69195673bae30d
    }
   },
   "id": "fff02203cb4f61ad",
   "outputs": [],
   "execution_count": 56
  },
  {
   "cell_type": "code",
<<<<<<< HEAD
=======
   "execution_count": 11,
   "outputs": [],
>>>>>>> 9db2950348eb6a23b9c9a932ef69195673bae30d
   "source": [
    "# extracts the 1% quantile from the sorted list of 100k obsercations\n",
    "VaR = sorted([-s for s in sample])[100]"
   ],
   "metadata": {
    "collapsed": false,
    "ExecuteTime": {
<<<<<<< HEAD
     "end_time": "2024-12-13T22:30:48.131217Z",
     "start_time": "2024-12-13T22:30:48.126202Z"
=======
     "end_time": "2024-12-13T22:23:49.357086700Z",
     "start_time": "2024-12-13T22:23:49.343773800Z"
>>>>>>> 9db2950348eb6a23b9c9a932ef69195673bae30d
    }
   },
   "id": "d70f892eb407ee96",
   "outputs": [],
   "execution_count": 57
  },
  {
   "cell_type": "code",
<<<<<<< HEAD
=======
   "execution_count": 12,
   "outputs": [
    {
     "data": {
      "text/plain": "-12307.810664663319"
     },
     "execution_count": 12,
     "metadata": {},
     "output_type": "execute_result"
    }
   ],
>>>>>>> 9db2950348eb6a23b9c9a932ef69195673bae30d
   "source": [
    "VaR"
   ],
   "metadata": {
    "collapsed": false,
    "ExecuteTime": {
<<<<<<< HEAD
     "end_time": "2024-12-13T22:30:48.136046Z",
     "start_time": "2024-12-13T22:30:48.133048Z"
=======
     "end_time": "2024-12-13T22:23:49.380236100Z",
     "start_time": "2024-12-13T22:23:49.358080900Z"
>>>>>>> 9db2950348eb6a23b9c9a932ef69195673bae30d
    }
   },
   "id": "7f1531356a6326f7",
   "outputs": [
    {
     "data": {
      "text/plain": [
       "-8941.535575055796"
      ]
     },
     "execution_count": 58,
     "metadata": {},
     "output_type": "execute_result"
    }
   ],
   "execution_count": 58
  },
  {
   "cell_type": "code",
   "outputs": [
    {
     "data": {
      "text/plain": "1400.7975964737664"
     },
     "execution_count": 13,
     "metadata": {},
     "output_type": "execute_result"
    }
   ],
   "source": [
    "np.mean(vars)"
   ],
   "metadata": {
    "collapsed": false,
    "ExecuteTime": {
     "end_time": "2024-12-13T22:23:49.381232900Z",
     "start_time": "2024-12-13T22:23:49.367961400Z"
    }
   },
   "id": "8689c4471cf40f66",
   "execution_count": 13
  },
  {
   "cell_type": "markdown",
   "source": [
    "IMPORTANCE SELECTION"
   ],
   "metadata": {
    "collapsed": false
   },
   "id": "c5e5cf6ba1bb6193"
  },
  {
   "cell_type": "code",
   "source": [
    "import matplotlib.pyplot as plt\n",
    "\n",
    "plt.hist(sample, bins=50, density=True)\n",
    "plt.title(\"Preliminary Loss Distribution\")\n",
    "plt.xlabel(\"Total Loss\")\n",
    "plt.ylabel(\"Frequency\")\n",
    "plt.xlim(-40000,-500)\n",
    "plt.show()"
   ],
   "metadata": {
    "collapsed": false,
    "ExecuteTime": {
     "end_time": "2024-12-13T22:30:48.236725Z",
     "start_time": "2024-12-13T22:30:48.136603Z"
    }
   },
   "id": "9e2822eb1cf30de3",
   "outputs": [
    {
     "data": {
      "text/plain": [
       "<Figure size 640x480 with 1 Axes>"
      ],
      "image/png": "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"
     },
     "metadata": {},
     "output_type": "display_data"
    }
   ],
   "execution_count": 59
  },
  {
   "cell_type": "code",
   "source": [
    "data"
   ],
   "metadata": {
    "collapsed": false,
    "ExecuteTime": {
     "end_time": "2024-12-13T22:30:48.245464Z",
     "start_time": "2024-12-13T22:30:48.238096Z"
    }
   },
   "id": "f38187312346b5e0",
   "outputs": [
    {
     "data": {
      "text/plain": [
       "      sector           m          d         p  sec_loading         t\n",
       "0          5   -7.417203   0.631652  0.015994         0.64 -2.144549\n",
       "1          2 -527.362999  49.292996  0.005138         0.41 -2.566434\n",
       "2          2 -439.116574  42.366041  0.005386         0.41 -2.550002\n",
       "3          5  112.839687  13.193781  0.016846         0.64 -2.123749\n",
       "4          5   93.661362  14.562288  0.017555         0.64 -2.107093\n",
       "...      ...         ...        ...       ...          ...       ...\n",
       "5653       5   81.071783   3.121474  0.014192         0.64 -2.191924\n",
       "5654       5  -29.621411   4.334980  0.015017         0.64 -2.169647\n",
       "5655       5   71.006290   8.699961  0.014092         0.64 -2.194725\n",
       "5656       5  102.410688  14.274780  0.017539         0.64 -2.107466\n",
       "5657       1  -45.683545  12.922743  0.004832         0.49 -2.587599\n",
       "\n",
       "[5658 rows x 6 columns]"
      ],
      "text/html": [
       "<div>\n",
       "<style scoped>\n",
       "    .dataframe tbody tr th:only-of-type {\n",
       "        vertical-align: middle;\n",
       "    }\n",
       "\n",
       "    .dataframe tbody tr th {\n",
       "        vertical-align: top;\n",
       "    }\n",
       "\n",
       "    .dataframe thead th {\n",
       "        text-align: right;\n",
       "    }\n",
       "</style>\n",
       "<table border=\"1\" class=\"dataframe\">\n",
       "  <thead>\n",
       "    <tr style=\"text-align: right;\">\n",
       "      <th></th>\n",
       "      <th>sector</th>\n",
       "      <th>m</th>\n",
       "      <th>d</th>\n",
       "      <th>p</th>\n",
       "      <th>sec_loading</th>\n",
       "      <th>t</th>\n",
       "    </tr>\n",
       "  </thead>\n",
       "  <tbody>\n",
       "    <tr>\n",
       "      <th>0</th>\n",
       "      <td>5</td>\n",
       "      <td>-7.417203</td>\n",
       "      <td>0.631652</td>\n",
       "      <td>0.015994</td>\n",
       "      <td>0.64</td>\n",
       "      <td>-2.144549</td>\n",
       "    </tr>\n",
       "    <tr>\n",
       "      <th>1</th>\n",
       "      <td>2</td>\n",
       "      <td>-527.362999</td>\n",
       "      <td>49.292996</td>\n",
       "      <td>0.005138</td>\n",
       "      <td>0.41</td>\n",
       "      <td>-2.566434</td>\n",
       "    </tr>\n",
       "    <tr>\n",
       "      <th>2</th>\n",
       "      <td>2</td>\n",
       "      <td>-439.116574</td>\n",
       "      <td>42.366041</td>\n",
       "      <td>0.005386</td>\n",
       "      <td>0.41</td>\n",
       "      <td>-2.550002</td>\n",
       "    </tr>\n",
       "    <tr>\n",
       "      <th>3</th>\n",
       "      <td>5</td>\n",
       "      <td>112.839687</td>\n",
       "      <td>13.193781</td>\n",
       "      <td>0.016846</td>\n",
       "      <td>0.64</td>\n",
       "      <td>-2.123749</td>\n",
       "    </tr>\n",
       "    <tr>\n",
       "      <th>4</th>\n",
       "      <td>5</td>\n",
       "      <td>93.661362</td>\n",
       "      <td>14.562288</td>\n",
       "      <td>0.017555</td>\n",
       "      <td>0.64</td>\n",
       "      <td>-2.107093</td>\n",
       "    </tr>\n",
       "    <tr>\n",
       "      <th>...</th>\n",
       "      <td>...</td>\n",
       "      <td>...</td>\n",
       "      <td>...</td>\n",
       "      <td>...</td>\n",
       "      <td>...</td>\n",
       "      <td>...</td>\n",
       "    </tr>\n",
       "    <tr>\n",
       "      <th>5653</th>\n",
       "      <td>5</td>\n",
       "      <td>81.071783</td>\n",
       "      <td>3.121474</td>\n",
       "      <td>0.014192</td>\n",
       "      <td>0.64</td>\n",
       "      <td>-2.191924</td>\n",
       "    </tr>\n",
       "    <tr>\n",
       "      <th>5654</th>\n",
       "      <td>5</td>\n",
       "      <td>-29.621411</td>\n",
       "      <td>4.334980</td>\n",
       "      <td>0.015017</td>\n",
       "      <td>0.64</td>\n",
       "      <td>-2.169647</td>\n",
       "    </tr>\n",
       "    <tr>\n",
       "      <th>5655</th>\n",
       "      <td>5</td>\n",
       "      <td>71.006290</td>\n",
       "      <td>8.699961</td>\n",
       "      <td>0.014092</td>\n",
       "      <td>0.64</td>\n",
       "      <td>-2.194725</td>\n",
       "    </tr>\n",
       "    <tr>\n",
       "      <th>5656</th>\n",
       "      <td>5</td>\n",
       "      <td>102.410688</td>\n",
       "      <td>14.274780</td>\n",
       "      <td>0.017539</td>\n",
       "      <td>0.64</td>\n",
       "      <td>-2.107466</td>\n",
       "    </tr>\n",
       "    <tr>\n",
       "      <th>5657</th>\n",
       "      <td>1</td>\n",
       "      <td>-45.683545</td>\n",
       "      <td>12.922743</td>\n",
       "      <td>0.004832</td>\n",
       "      <td>0.49</td>\n",
       "      <td>-2.587599</td>\n",
       "    </tr>\n",
       "  </tbody>\n",
       "</table>\n",
       "<p>5658 rows × 6 columns</p>\n",
       "</div>"
      ]
     },
     "execution_count": 60,
     "metadata": {},
     "output_type": "execute_result"
    }
   ],
   "execution_count": 60
  },
  {
   "cell_type": "markdown",
   "source": [
    "HEREZJA SOBOL"
   ],
   "metadata": {
    "collapsed": false
   },
   "id": "bd987f66276e2d5c"
  },
  {
   "cell_type": "code",
   "source": [
    "num_dimensions = len(r) + len(data)"
   ],
   "metadata": {
    "collapsed": false,
    "ExecuteTime": {
     "end_time": "2024-12-13T22:30:48.249318Z",
     "start_time": "2024-12-13T22:30:48.247075Z"
    }
   },
   "id": "7bee415604064a6d",
   "outputs": [],
   "execution_count": 61
  },
  {
   "cell_type": "code",
   "source": [
    "from scipy.stats import qmc\n",
    "sobol_sampler = qmc.Sobol(d=num_dimensions, scramble=True)\n",
    "quasi_random_samples = sobol_sampler.random_base2(m=int(np.log2(num_obvs)))"
   ],
   "metadata": {
    "collapsed": false,
    "ExecuteTime": {
     "end_time": "2024-12-13T22:30:49.035863Z",
     "start_time": "2024-12-13T22:30:48.250834Z"
    }
   },
   "id": "51a9e95f7113d5b4",
   "outputs": [],
   "execution_count": 62
  },
  {
   "cell_type": "code",
   "source": [
    "from scipy.stats import norm\n",
    "factors = st.norm.ppf(quasi_random_samples)"
   ],
   "metadata": {
    "collapsed": false,
    "ExecuteTime": {
     "end_time": "2024-12-13T22:30:51.715230Z",
     "start_time": "2024-12-13T22:30:49.037905Z"
    }
   },
   "id": "a0d99b290f209667",
   "outputs": [],
   "execution_count": 63
  },
  {
   "cell_type": "code",
   "source": [
    "from scipy.stats import t\n",
    "sample = []\n",
    "sobol_student= qmc.Sobol(d=1, scramble=True)\n",
    "for obs in factors:\n",
    "    # m_factor, sec_factor, res_factor = obs[0], obs[1:1 + len(r)][data.sector.values], obs[len(r):]\n",
    "    m_factor, sec_factor, res_factor = obs[0], obs[:len(r)][data.sector.values], obs[len(r):]\n",
    "\n",
    "    ind = (\n",
    "                  r[0]**0.5 * m_factor\n",
    "                  + (data.sec_loading - r[0])**0.5 * sec_factor\n",
    "                  + (1 - data.sec_loading)**0.5 * res_factor\n",
    "          ) < data.t\n",
    "    loss = np.zeros((len(data),))\n",
    "    stt=sobol_student.random(n=sum(ind)).flatten()\n",
    "    stud = st.t.ppf(stt,3)\n",
    "    loss[ind] = data[ind].m + data[ind].d * stud\n",
    "    sample.append(sum(loss))"
   ],
   "metadata": {
    "collapsed": false,
    "ExecuteTime": {
     "end_time": "2024-12-13T22:30:59.148940Z",
     "start_time": "2024-12-13T22:30:51.718610Z"
    }
   },
   "id": "4be080f5d4e926f8",
   "outputs": [],
   "execution_count": 64
  },
  {
   "cell_type": "code",
   "source": [
    "VaR = sorted([-s for s in sample])[int(0.01 * num_obvs)]"
   ],
   "metadata": {
    "collapsed": false,
    "ExecuteTime": {
     "end_time": "2024-12-13T22:30:59.153158Z",
     "start_time": "2024-12-13T22:30:59.149478Z"
    }
   },
   "id": "31a920bd22785f88",
   "outputs": [],
   "execution_count": 65
  },
  {
   "cell_type": "code",
   "source": [
    "VaR"
   ],
   "metadata": {
    "collapsed": false,
    "ExecuteTime": {
     "end_time": "2024-12-13T22:30:59.156129Z",
     "start_time": "2024-12-13T22:30:59.153650Z"
    }
   },
   "id": "adf9287362131e2b",
   "outputs": [
    {
     "data": {
      "text/plain": [
       "-5396.849243209308"
      ]
     },
     "execution_count": 66,
     "metadata": {},
     "output_type": "execute_result"
    }
   ],
   "execution_count": 66
  },
  {
   "cell_type": "markdown",
   "source": [
    "PARALLEL"
   ],
   "metadata": {
    "collapsed": false
   },
   "id": "b4485070c0eee1cd"
  },
  {
   "cell_type": "code",
<<<<<<< HEAD
   "source": "",
   "metadata": {
    "collapsed": false,
    "ExecuteTime": {
     "end_time": "2024-12-13T22:30:59.157962Z",
     "start_time": "2024-12-13T22:30:59.156664Z"
    }
   },
   "id": "39e509cc75c09eaa",
   "outputs": [],
   "execution_count": 66
  },
  {
   "metadata": {
    "ExecuteTime": {
     "end_time": "2024-12-13T22:30:59.159824Z",
     "start_time": "2024-12-13T22:30:59.158572Z"
    }
   },
   "cell_type": "code",
=======
   "outputs": [
    {
     "data": {
      "text/plain": "-6368.386171852054"
     },
     "execution_count": 2,
     "metadata": {},
     "output_type": "execute_result"
    }
   ],
>>>>>>> 9db2950348eb6a23b9c9a932ef69195673bae30d
   "source": [
    "factors = np.random.normal(0, 1, (num_obvs // 2, len(r) + len(data)))\n",
    "antithetic_factors = -factors\n",
    "\n",
<<<<<<< HEAD
    "factors = np.vstack([factors, antithetic_factors])\n",
    "sample_antithetic = []\n",
=======
    "data = pd.read_csv('data.csv')\n",
    "num_obvs = 100000\n",
    "# risks per sector\n",
    "r = np.array([.295, .49, .41, .415, .338, .64, .403, .476])\n",
    "#sec_loading maps sector to its risk, t is the threshold for defaults\n",
    "data['sec_loading'], data['t'] = r[data['sector'].values], st.norm.ppf(data.p)\n",
    "# 100k monte carlo simulations and len(r)+len(data) risk factors per one sample\n",
    "num_dimensions = len(r) + len(data)\n",
    "from scipy.stats import qmc\n",
>>>>>>> 9db2950348eb6a23b9c9a932ef69195673bae30d
    "\n",
    "for obs in factors:\n",
    "    m_factor = obs[0] \n",
    "    sec_factor = obs[:len(r)][data.sector.values] \n",
    "    res_factor = obs[len(r):]  \n",
    "\n",
    "    ind = (\n",
    "                  r[0]**0.5 * m_factor\n",
    "                  + (data.sec_loading - r[0])**0.5 * sec_factor\n",
    "                  + (1 - data.sec_loading)**0.5 * res_factor\n",
    "          ) < data.t\n",
    "    loss = np.zeros((len(data),))\n",
    "    loss[ind] = data[ind].m + data[ind].d * t.rvs(df=3,size=sum(ind))\n",
    "    sample.append(sum(loss))\n",
    "    \n",
    "    sample_antithetic.append(sum(loss))\n",
    "    \n",
    "    Var_antithetic = sorted([-s for s in sample])[100]"
   ],
   "id": "35485171e6f3b46e",
   "outputs": [],
   "execution_count": 66
  },
  {
   "metadata": {
<<<<<<< HEAD
    "ExecuteTime": {
     "end_time": "2024-12-13T22:31:59.259683Z",
     "start_time": "2024-12-13T22:31:59.257540Z"
    }
   },
   "cell_type": "code",
   "source": "Var_antithetic",
   "id": "2b0756734cabd965",
   "outputs": [
    {
     "data": {
      "text/plain": [
       "-10697.589807499246"
      ]
     },
     "execution_count": 68,
     "metadata": {},
     "output_type": "execute_result"
    }
   ],
   "execution_count": 68
=======
    "collapsed": false,
    "ExecuteTime": {
     "end_time": "2024-12-13T22:07:12.146841800Z",
     "start_time": "2024-12-13T22:05:56.591435200Z"
    }
   },
   "id": "39e509cc75c09eaa",
   "execution_count": 2
  },
  {
   "cell_type": "code",
   "outputs": [],
   "source": [],
   "metadata": {
    "collapsed": false
   },
   "id": "79507a0eda292917"
>>>>>>> 9db2950348eb6a23b9c9a932ef69195673bae30d
  }
 ],
 "metadata": {
  "kernelspec": {
   "display_name": "Python 3",
   "language": "python",
   "name": "python3"
  },
  "language_info": {
   "codemirror_mode": {
    "name": "ipython",
    "version": 2
   },
   "file_extension": ".py",
   "mimetype": "text/x-python",
   "name": "python",
   "nbconvert_exporter": "python",
   "pygments_lexer": "ipython2",
   "version": "2.7.6"
  }
 },
 "nbformat": 4,
 "nbformat_minor": 5
}
