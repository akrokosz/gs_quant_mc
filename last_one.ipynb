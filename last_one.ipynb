{
 "cells": [
  {
   "cell_type": "code",
   "execution_count": null,
   "outputs": [],
   "source": [
    "import numpy as np\n",
    "import pandas as pd\n",
    "from scipy.stats import t, norm\n",
    "from joblib import Parallel, delayed\n",
    "\n",
    "# Load data\n",
    "data = pd.read_csv('data.csv')\n",
    "\n",
    "# Constants\n",
    "num_obvs = 100_000\n",
    "r = np.array([.295, .49, .41, .415, .338, .64, .403, .476])\n",
    "sector_indices = data['sector'].values\n",
    "sec_loading = r[sector_indices]\n",
    "datat = norm.ppf(data['p'])\n",
    "shift = 2.5  # Mean shift for importance sampling\n",
    "\n",
    "# Generate importance sampling factors\n",
    "def generate_importance_samples(num_obvs, dim, shift):\n",
    "    factors = np.random.normal(shift, 1, (num_obvs, dim))  # Shifted sampling\n",
    "    weights = norm.pdf(factors, 0, 1) / norm.pdf(factors, shift, 1)  # Importance weights\n",
    "    return factors, weights\n",
    "\n",
    "# Process observations with importance sampling\n",
    "def process_obs_with_weights(obs, weight):\n",
    "    m_factor = obs[0]\n",
    "    sec_factor = obs[:len(r)][sector_indices]\n",
    "    res_factor = obs[len(r):]\n",
    "\n",
    "    control_variate = (\n",
    "            r[0]**0.5 * m_factor\n",
    "            + (sec_loading - r[0])**0.5 * sec_factor\n",
    "            + (1 - sec_loading)**0.5 * res_factor\n",
    "    )\n",
    "\n",
    "    ind = control_variate < datat\n",
    "    loss = np.zeros(len(data))\n",
    "\n",
    "    if np.any(ind):\n",
    "        loss[ind] = (\n",
    "                data.loc[ind, 'm'].values\n",
    "                + data.loc[ind, 'd'].values * np.clip(t.rvs(df=3, size=sum(ind)), -5, 5)\n",
    "        )\n",
    "\n",
    "    # Control variate adjustment\n",
    "    expected_control = np.mean(control_variate)\n",
    "    alpha = np.cov(loss, control_variate)[0, 1] / np.var(control_variate)\n",
    "    loss -= alpha * (control_variate - expected_control)\n",
    "\n",
    "    # Apply importance weight to loss\n",
    "    weighted_loss = weight * np.sum(loss)\n",
    "    return weighted_loss, weight * np.var(loss)\n",
    "\n",
    "# Generate factors and weights\n",
    "factors, weights = generate_importance_samples(num_obvs, len(r) + len(data), shift)\n",
    "antithetic_factors = -factors  # Antithetic sampling\n",
    "combined_factors = np.vstack([factors, antithetic_factors])\n",
    "combined_weights = np.hstack([weights, weights])  # Combine weights for antithetic samples\n",
    "\n",
    "# Parallel processing with weights\n",
    "answers = Parallel(n_jobs=-1, verbose=5)(\n",
    "    delayed(process_obs_with_weights)(combined_factors[i], combined_weights[i])\n",
    "    for i in range(len(combined_factors))\n",
    ")\n",
    "answers = np.array(answers)\n",
    "\n",
    "# Extract weighted results\n",
    "sample_losses = answers[:, 0]\n",
    "sample_vars = answers[:, 1]\n",
    "\n",
    "# Calculate Value-at-Risk (VaR) with weighted losses\n",
    "VaR_importance = np.percentile(-np.array(sample_losses), 99.9)\n",
    "\n",
    "# Output Results\n",
    "print(f\"Value-at-Risk (99.9%) with Importance Sampling: {VaR_importance:.5f}\")\n",
    "print(f\"Mean Weighted Loss: {np.mean(sample_losses):.5f}\")\n",
    "print(f\"Mean Weighted Variance: {np.mean(sample_vars):.5f}\")\n"
   ],
   "metadata": {
    "collapsed": false,
    "is_executing": true,
    "ExecuteTime": {
     "start_time": "2024-12-14T06:02:54.841790Z"
    }
   },
   "id": "5f834b3360dd15ad"
  },
  {
   "cell_type": "code",
   "execution_count": null,
   "outputs": [],
   "source": [],
   "metadata": {
    "collapsed": false
   },
   "id": "c6f0a5591125d2b4"
  }
 ],
 "metadata": {
  "kernelspec": {
   "display_name": "Python 3",
   "language": "python",
   "name": "python3"
  },
  "language_info": {
   "codemirror_mode": {
    "name": "ipython",
    "version": 2
   },
   "file_extension": ".py",
   "mimetype": "text/x-python",
   "name": "python",
   "nbconvert_exporter": "python",
   "pygments_lexer": "ipython2",
   "version": "2.7.6"
  }
 },
 "nbformat": 4,
 "nbformat_minor": 5
}
