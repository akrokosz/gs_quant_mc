{
 "cells": [
  {
   "cell_type": "code",
   "outputs": [],
   "source": [
    "import numpy as np, pandas as pd, scipy.stats as st\n",
    "\n",
    "data = pd.read_csv('data.csv')\n",
    "num_obvs = 30_000\n",
    "# risks per sector\n",
    "r = np.array([.295, .49, .41, .415, .338, .64, .403, .476])\n",
    "#sec_loading maps sector to its risk, t is the threshold for defaults\n",
    "data['sec_loading'], data['t'] = r[data['sector'].values], st.norm.ppf(data.p)\n",
    "# 100k monte carlo simulations and len(r)+len(data) risk factors per one sample\n",
    "num_dimensions = len(r) + len(data)\n",
    "from scipy.stats import qmc\n",
    "\n",
    "sobol_sampler = qmc.Sobol(d=num_dimensions, scramble=True)\n",
    "quasi_random_samples = sobol_sampler.random_base2(m=int(np.log2(num_obvs)))\n",
    "from scipy.stats import norm\n",
    "\n",
    "factors = st.norm.ppf(quasi_random_samples)\n",
    "\n",
    "\n",
    "def process_obs(obs):\n",
    "    # m_factor, sec_factor, res_factor = obs[0], obs[1:1 + len(r)][data.sector.values], obs[len(r):]\n",
    "    m_factor, sec_factor, res_factor = obs[0], obs[:len(r)][data.sector.values], obs[len(r):]\n",
    "\n",
    "    ind = (\n",
    "                  r[0] ** 0.5 * m_factor\n",
    "                  + (data.sec_loading - r[0]) ** 0.5 * sec_factor\n",
    "                  + (1 - data.sec_loading) ** 0.5 * res_factor\n",
    "          ) < data.t\n",
    "    loss = np.zeros((len(data),))\n",
    "    stt = sobol_student.random(n=sum(ind)).flatten()\n",
    "    stud = st.t.ppf(stt, 3)\n",
    "    loss[ind] = data[ind].m + data[ind].d * stud\n",
    "    return sum(loss)\n",
    "\n",
    "\n",
    "from joblib import Parallel, delayed\n",
    "import time\n",
    "from scipy.stats import t\n",
    "\n",
    "sample = []\n",
    "sobol_student = qmc.Sobol(d=1, scramble=True)\n",
    "\n",
    "sample = Parallel(n_jobs=-1)(delayed(process_obs)(obs) for obs in factors)\n",
    "VaR = sorted([-s for s in sample])[int(0.01 * num_obvs)]\n",
    "VaR"
   ],
   "metadata": {
    "collapsed": false
   },
   "id": "d285e6a73abdade7"
  }
 ],
 "metadata": {
  "kernelspec": {
   "display_name": "Python 3",
   "language": "python",
   "name": "python3"
  },
  "language_info": {
   "codemirror_mode": {
    "name": "ipython",
    "version": 2
   },
   "file_extension": ".py",
   "mimetype": "text/x-python",
   "name": "python",
   "nbconvert_exporter": "python",
   "pygments_lexer": "ipython2",
   "version": "2.7.6"
  }
 },
 "nbformat": 4,
 "nbformat_minor": 5
}
