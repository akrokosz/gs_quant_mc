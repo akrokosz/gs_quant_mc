{
 "cells": [
  {
   "cell_type": "code",
   "execution_count": 1,
   "id": "initial_id",
   "metadata": {
    "collapsed": true,
    "ExecuteTime": {
     "end_time": "2024-12-14T02:50:56.617878Z",
     "start_time": "2024-12-14T02:50:55.857149Z"
    }
   },
   "outputs": [],
   "source": [
    "import numpy as np, pandas as pd, scipy.stats as st\n",
    "from scipy.stats import t, norm\n",
    "from joblib import Parallel, delayed"
   ]
  },
  {
   "cell_type": "code",
   "execution_count": 2,
   "outputs": [],
   "source": [
    "data = pd.read_csv('data.csv')\n",
    "\n",
    "num_obvs = 100_000\n",
    "r = np.array([.295, .49, .41, .415, .338, .64, .403, .476])\n",
    "sector_indices = data['sector'].values\n",
    "sec_loading = r[sector_indices]\n",
    "datat = norm.ppf(data['p'])"
   ],
   "metadata": {
    "collapsed": false,
    "ExecuteTime": {
     "end_time": "2024-12-14T02:50:56.649309Z",
     "start_time": "2024-12-14T02:50:56.614107Z"
    }
   },
   "id": "9de90a73db43fdd3"
  },
  {
   "cell_type": "code",
   "execution_count": 3,
   "outputs": [],
   "source": [
    "def process_obs(obs):\n",
    "    m_factor = obs[0]\n",
    "    sec_factor = obs[:len(r)][sector_indices]\n",
    "    res_factor = obs[len(r):]\n",
    "\n",
    "    control_variate = (\n",
    "            r[0]**0.5 * m_factor\n",
    "            + (sec_loading - r[0])**0.5 * sec_factor\n",
    "            + (1 - sec_loading)**0.5 * res_factor\n",
    "    )\n",
    "\n",
    "    ind = control_variate < datat\n",
    "    loss = np.zeros(len(data))\n",
    "\n",
    "    if np.any(ind):\n",
    "        loss[ind] = data.loc[ind, 'm'].values + data.loc[ind, 'd'].values * np.clip(t.rvs(df=3, size=sum(ind)), -5, 5)\n",
    "\n",
    "    return np.sum(loss), np.var(loss)"
   ],
   "metadata": {
    "collapsed": false,
    "ExecuteTime": {
     "end_time": "2024-12-14T02:50:56.649850Z",
     "start_time": "2024-12-14T02:50:56.623881Z"
    }
   },
   "id": "b2df6303599fd5a9"
  },
  {
   "cell_type": "code",
   "execution_count": 4,
   "outputs": [
    {
     "name": "stderr",
     "output_type": "stream",
     "text": [
      "[Parallel(n_jobs=-1)]: Using backend LokyBackend with 8 concurrent workers.\n",
      "[Parallel(n_jobs=-1)]: Done   2 tasks      | elapsed:    3.7s\n",
      "[Parallel(n_jobs=-1)]: Done  64 tasks      | elapsed:    3.8s\n",
      "[Parallel(n_jobs=-1)]: Done 2192 tasks      | elapsed:    4.8s\n",
      "[Parallel(n_jobs=-1)]: Done 10256 tasks      | elapsed:    8.3s\n",
      "[Parallel(n_jobs=-1)]: Done 20624 tasks      | elapsed:   12.9s\n",
      "[Parallel(n_jobs=-1)]: Done 33296 tasks      | elapsed:   23.8s\n",
      "[Parallel(n_jobs=-1)]: Done 48272 tasks      | elapsed:   33.5s\n",
      "[Parallel(n_jobs=-1)]: Done 65552 tasks      | elapsed:   38.2s\n",
      "[Parallel(n_jobs=-1)]: Done 85136 tasks      | elapsed:   44.9s\n",
      "[Parallel(n_jobs=-1)]: Done 107024 tasks      | elapsed:   51.6s\n",
      "[Parallel(n_jobs=-1)]: Done 131216 tasks      | elapsed:   58.8s\n",
      "[Parallel(n_jobs=-1)]: Done 157712 tasks      | elapsed:  1.1min\n",
      "[Parallel(n_jobs=-1)]: Done 186512 tasks      | elapsed:  1.3min\n",
      "[Parallel(n_jobs=-1)]: Done 200000 out of 200000 | elapsed:  1.4min finished\n"
     ]
    }
   ],
   "source": [
    "shift = 2.0 \n",
    "factors_tail = np.random.normal(shift, 1, (num_obvs, len(r) + len(data)))\n",
    "antithetic_factors_tail = -factors_tail\n",
    "combined_factors_tail = np.vstack([factors_tail, antithetic_factors_tail])\n",
    "\n",
    "\n",
    "answers = Parallel(n_jobs=-1, verbose=5)(delayed(process_obs)(obs) for obs in combined_factors_tail)\n",
    "answers = np.array(answers)\n",
    "\n",
    "sample_losses = answers[:, 0]\n",
    "sample_vars = answers[:, 1]"
   ],
   "metadata": {
    "collapsed": false,
    "ExecuteTime": {
     "end_time": "2024-12-14T02:54:42.571051Z",
     "start_time": "2024-12-14T02:51:17.081849Z"
    }
   },
   "id": "561477a10892c386"
  },
  {
   "cell_type": "code",
   "execution_count": 5,
   "outputs": [],
   "source": [
    "VaR_antithetic = np.percentile(-np.array(sample_losses), 99.9)"
   ],
   "metadata": {
    "collapsed": false,
    "ExecuteTime": {
     "end_time": "2024-12-14T02:54:43.027979Z",
     "start_time": "2024-12-14T02:54:42.928324Z"
    }
   },
   "id": "e0d388836c97be55"
  },
  {
   "cell_type": "code",
   "execution_count": 6,
   "outputs": [
    {
     "name": "stdout",
     "output_type": "stream",
     "text": [
      "Średnia wariancji strat: 129147.69240639386\n",
      "VaR antetyczny (100-ty wynik): 0.0\n"
     ]
    }
   ],
   "source": [
    "print(\"Średnia wariancji strat:\", np.mean(sample_vars))\n",
    "print(\"VaR antetyczny (100-ty wynik):\", VaR_antithetic)"
   ],
   "metadata": {
    "collapsed": false,
    "ExecuteTime": {
     "end_time": "2024-12-14T02:54:43.046534Z",
     "start_time": "2024-12-14T02:54:42.935181Z"
    }
   },
   "id": "7138f5ec810bd861"
  },
  {
   "cell_type": "code",
   "execution_count": null,
   "outputs": [],
   "source": [],
   "metadata": {
    "collapsed": false
   },
   "id": "835158253ca3d0eb"
  }
 ],
 "metadata": {
  "kernelspec": {
   "display_name": "Python 3",
   "language": "python",
   "name": "python3"
  },
  "language_info": {
   "codemirror_mode": {
    "name": "ipython",
    "version": 2
   },
   "file_extension": ".py",
   "mimetype": "text/x-python",
   "name": "python",
   "nbconvert_exporter": "python",
   "pygments_lexer": "ipython2",
   "version": "2.7.6"
  }
 },
 "nbformat": 4,
 "nbformat_minor": 5
}
