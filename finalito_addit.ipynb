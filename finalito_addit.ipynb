{
 "cells": [
  {
   "cell_type": "code",
   "execution_count": 1,
   "id": "initial_id",
   "metadata": {
    "collapsed": true,
    "ExecuteTime": {
     "end_time": "2024-12-14T03:36:17.286263Z",
     "start_time": "2024-12-14T03:36:15.876485Z"
    }
   },
   "outputs": [],
   "source": [
    "import numpy as np, pandas as pd, scipy.stats as st\n",
    "from scipy.stats import t, norm\n",
    "from joblib import Parallel, delayed"
   ]
  },
  {
   "cell_type": "code",
   "execution_count": 2,
   "outputs": [],
   "source": [
    "data = pd.read_csv('data.csv')\n",
    "\n",
    "num_obvs = 100_000\n",
    "r = np.array([.295, .49, .41, .415, .338, .64, .403, .476])\n",
    "sector_indices = data['sector'].values\n",
    "sec_loading = r[sector_indices]\n",
    "datat = norm.ppf(data['p'])"
   ],
   "metadata": {
    "collapsed": false,
    "ExecuteTime": {
     "end_time": "2024-12-14T03:36:17.313853Z",
     "start_time": "2024-12-14T03:36:16.729057Z"
    }
   },
   "id": "9de90a73db43fdd3"
  },
  {
   "cell_type": "code",
   "execution_count": 3,
   "outputs": [],
   "source": [
    "def process_obs(obs):\n",
    "    m_factor = obs[0]\n",
    "    sec_factor = obs[:len(r)][sector_indices]\n",
    "    res_factor = obs[len(r):]\n",
    "\n",
    "    control_variate = (\n",
    "            r[0]**0.5 * m_factor\n",
    "            + (sec_loading - r[0])**0.5 * sec_factor\n",
    "            + (1 - sec_loading)**0.5 * res_factor\n",
    "    )\n",
    "\n",
    "    ind = control_variate < datat\n",
    "    loss = np.zeros(len(data))\n",
    "\n",
    "    if np.any(ind):\n",
    "        loss[ind] = data.loc[ind, 'm'].values + data.loc[ind, 'd'].values * np.clip(t.rvs(df=3, size=sum(ind)), -5, 5)\n",
    "\n",
    "    return np.sum(loss), np.var(loss)"
   ],
   "metadata": {
    "collapsed": false,
    "ExecuteTime": {
     "end_time": "2024-12-14T03:36:17.314449Z",
     "start_time": "2024-12-14T03:36:16.740091Z"
    }
   },
   "id": "b2df6303599fd5a9"
  },
  {
   "cell_type": "code",
   "execution_count": null,
   "outputs": [],
   "source": [
    "shift = 1\n",
    "factors_tail = np.random.normal(shift, 1, (num_obvs, len(r) + len(data)))\n",
    "antithetic_factors_tail = -factors_tail\n",
    "combined_factors_tail = np.vstack([factors_tail, antithetic_factors_tail])\n",
    "\n",
    "\n",
    "answers = Parallel(n_jobs=-1, verbose=5)(delayed(process_obs)(obs) for obs in combined_factors_tail)\n",
    "answers = np.array(answers)\n",
    "\n",
    "sample_losses = answers[:, 0]\n",
    "sample_vars = answers[:, 1]"
   ],
   "metadata": {
    "collapsed": false,
    "is_executing": true,
    "ExecuteTime": {
     "start_time": "2024-12-14T03:36:16.740914Z"
    }
   },
   "id": "561477a10892c386"
  },
  {
   "cell_type": "code",
   "execution_count": null,
   "outputs": [],
   "source": [
    "VaR_antithetic = np.percentile(-np.array(sample_losses), 99.9)"
   ],
   "metadata": {
    "collapsed": false,
    "is_executing": true
   },
   "id": "e0d388836c97be55"
  },
  {
   "cell_type": "code",
   "execution_count": null,
   "outputs": [],
   "source": [
    "print(\"Średnia wariancji strat:\", np.mean(sample_vars))\n",
    "print(\"VaR antetyczny (100-ty wynik):\", VaR_antithetic)"
   ],
   "metadata": {
    "collapsed": false,
    "is_executing": true
   },
   "id": "7138f5ec810bd861"
  },
  {
   "cell_type": "code",
   "execution_count": null,
   "outputs": [],
   "source": [],
   "metadata": {
    "collapsed": false
   },
   "id": "90b0381ea94829c3"
  }
 ],
 "metadata": {
  "kernelspec": {
   "display_name": "Python 3",
   "language": "python",
   "name": "python3"
  },
  "language_info": {
   "codemirror_mode": {
    "name": "ipython",
    "version": 2
   },
   "file_extension": ".py",
   "mimetype": "text/x-python",
   "name": "python",
   "nbconvert_exporter": "python",
   "pygments_lexer": "ipython2",
   "version": "2.7.6"
  }
 },
 "nbformat": 4,
 "nbformat_minor": 5
}
